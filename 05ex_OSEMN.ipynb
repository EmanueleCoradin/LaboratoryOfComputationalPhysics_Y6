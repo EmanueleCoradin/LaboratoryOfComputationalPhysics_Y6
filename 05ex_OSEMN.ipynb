{
 "cells": [
  {
   "cell_type": "markdown",
   "metadata": {},
   "source": [
    "# OSEMN Exercises"
   ]
  },
  {
   "cell_type": "code",
   "execution_count": 2,
   "metadata": {},
   "outputs": [],
   "source": [
    "%matplotlib inline\n",
    "import pandas as pd\n",
    "import numpy as np\n",
    "import numpy.random as npr"
   ]
  },
  {
   "cell_type": "code",
   "execution_count": null,
   "metadata": {},
   "outputs": [],
   "source": []
  },
  {
   "cell_type": "markdown",
   "metadata": {},
   "source": [
    "1\\. Create a random list of number and then save it to a text file named \"simple_data.txt\""
   ]
  },
  {
   "cell_type": "code",
   "execution_count": 15,
   "metadata": {},
   "outputs": [],
   "source": [
    "randlist = npr.rand(10,)\n",
    "#save it inside a txt\n",
    "np.savetxt('./05/randlist.txt', randlist)\n"
   ]
  },
  {
   "cell_type": "code",
   "execution_count": 4,
   "metadata": {},
   "outputs": [],
   "source": [
    "#!cat ./05/randlist.txt"
   ]
  },
  {
   "cell_type": "markdown",
   "metadata": {},
   "source": [
    "2\\. Create a random matrix of 5x5 and then save it to a text file named \"data.txt\""
   ]
  },
  {
   "cell_type": "code",
   "execution_count": 16,
   "metadata": {},
   "outputs": [],
   "source": [
    "randmatrix = npr.rand(5,5)\n",
    "np.savetxt('./05/data.txt', randmatrix)\n"
   ]
  },
  {
   "cell_type": "code",
   "execution_count": 17,
   "metadata": {},
   "outputs": [
    {
     "name": "stdout",
     "output_type": "stream",
     "text": [
      "1.782080055002488450e-02 7.559262070204760819e-01 2.791817782747674226e-01 3.574608477885959923e-01 3.131700514901425425e-01\r\n",
      "5.163122213506848857e-01 4.747720139887449120e-01 1.751580601483677668e-01 1.659711393883643860e-01 1.376730725950273682e-01\r\n",
      "4.701106968497584804e-01 6.905856484312722365e-01 6.678419254399764471e-01 4.886087972978323535e-01 6.227520393634899953e-02\r\n",
      "6.422007768536568406e-01 9.962420096562797367e-01 8.579559199035620143e-01 6.881451276579441112e-01 3.036406246069929260e-01\r\n",
      "7.740558351803891179e-01 7.407238379559955010e-02 3.474771934767654225e-01 6.016468972512056812e-01 8.216263331380253554e-01\r\n"
     ]
    }
   ],
   "source": [
    "!cat ./05/data.txt"
   ]
  },
  {
   "cell_type": "markdown",
   "metadata": {},
   "source": [
    "3\\. Load the saved txt file of point 2 and convert it to a csv file (by hand)"
   ]
  },
  {
   "cell_type": "code",
   "execution_count": 19,
   "metadata": {},
   "outputs": [
    {
     "name": "stdout",
     "output_type": "stream",
     "text": [
      "[[0.0178208  0.75592621 0.27918178 0.35746085 0.31317005]\n",
      " [0.51631222 0.47477201 0.17515806 0.16597114 0.13767307]\n",
      " [0.4701107  0.69058565 0.66784193 0.4886088  0.0622752 ]\n",
      " [0.64220078 0.99624201 0.85795592 0.68814513 0.30364062]\n",
      " [0.77405584 0.07407238 0.34747719 0.6016469  0.82162633]]\n"
     ]
    }
   ],
   "source": [
    "datafile = open('./05/data.txt')\n",
    "data = []\n",
    "for line in datafile:\n",
    "    data.append(line.split())\n",
    "data = np.array(data, dtype='float64')\n",
    "print(data)"
   ]
  },
  {
   "cell_type": "markdown",
   "metadata": {},
   "source": [
    "4\\. load the binary file named *credit_card.dat* and convert the data into the real credit-card number.\n",
    "Each line correspond to a credit card number.\n",
    "Each character is composed by 6 bit (even the space) and the last 4 bit are just a padding\n",
    "\n",
    "**hint**: use the `chr()` function to convert a number to a char"
   ]
  },
  {
   "cell_type": "code",
   "execution_count": 44,
   "metadata": {},
   "outputs": [
    {
     "name": "stdout",
     "output_type": "stream",
     "text": [
      "['', '', '', '', '', '', '', '', '', '', '', '', '', '', '', '', '', '', '', '', '', '', '', '', '', '', '', '', '', '', '', '', '', '', '', '', '', '', '', '', '', '', '', '', '', '', '', '', '', '', '']\n"
     ]
    }
   ],
   "source": [
    "import struct\n",
    "\n",
    "#16 numbers and 3 spaces\n",
    "char_len = 6\n",
    "cards=[]\n",
    "with open('./05/credit_card.dat') as file:\n",
    "    for line in file:\n",
    "        #split every line in groups of 6 bit and convert them firstly into integers than into chars\n",
    "        splitted = np.array([ chr(int(line[index : index + char_len],2)) for index in range(0, len(line), char_len)])\n",
    "        #now let's compose the credit card\n",
    "        card = \"\"\n",
    "        for array in splitted[:-1]:\n",
    "            for char in array[:-1]:\n",
    "                card+=char\n",
    "        cards.append(card)\n",
    "print(cards)\n",
    "        \n",
    "\n",
    "        "
   ]
  },
  {
   "cell_type": "markdown",
   "metadata": {},
   "source": [
    "5\\. Load the file \"user_data.json\", filter the data by the \"CreditCardType\" field equals to \"American Express\". Than save the data a to CSV."
   ]
  },
  {
   "cell_type": "markdown",
   "metadata": {},
   "source": [
    "6\\. Load the file from this url: [https://www.dropbox.com/s/7u3lm737ogbqsg8/mushrooms_categorized.csv?dl=1](https://www.dropbox.com/s/7u3lm737ogbqsg8/mushrooms_categorized.csv?dl=1) with Pandas. \n",
    "+ Explore the data (see the info of the data)\n",
    "+ Draw the istogram of the 'class' field. Decribe wath yuou see\n"
   ]
  },
  {
   "cell_type": "markdown",
   "metadata": {},
   "source": [
    "7\\. Load the remote file [https://www.dropbox.com/s/vkl89yce7xjdq4n/regression_generated.csv?dl=1](https://www.dropbox.com/s/vkl89yce7xjdq4n/regression_generated.csv?dl=1) with Pandas and plot a scatter plot all possible combination of the following fields:\n",
    "    \n",
    "  + features_1\n",
    "  + features_2\n",
    "  + features_3"
   ]
  },
  {
   "cell_type": "markdown",
   "metadata": {},
   "source": [
    "8\\. Load the same file of point 6, and convert the file to json with Pandas."
   ]
  }
 ],
 "metadata": {
  "kernelspec": {
   "display_name": "Python 3",
   "language": "python",
   "name": "python3"
  },
  "language_info": {
   "codemirror_mode": {
    "name": "ipython",
    "version": 3
   },
   "file_extension": ".py",
   "mimetype": "text/x-python",
   "name": "python",
   "nbconvert_exporter": "python",
   "pygments_lexer": "ipython3",
   "version": "3.6.8"
  }
 },
 "nbformat": 4,
 "nbformat_minor": 2
}
