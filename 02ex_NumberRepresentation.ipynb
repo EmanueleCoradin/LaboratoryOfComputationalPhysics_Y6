{
 "cells": [
  {
   "cell_type": "markdown",
   "metadata": {},
   "source": [
    "1\\. Write a function that converts number representation, bin<->dec<->hex. (Clearly using the corresponding python built-in functions is not fair..)"
   ]
  },
  {
   "cell_type": "code",
   "execution_count": 1,
   "metadata": {},
   "outputs": [],
   "source": [
    "def convert(decimal):\n",
    "    #conversion decimal binary\n",
    "    hex_symbols = [\"A\", \"B\", \"C\", \"D\", \"E\", \"F\"]\n",
    "    tmp = decimal\n",
    "    binary = 0\n",
    "    hex = \"\"\n",
    "    i = 0\n",
    "\n",
    "    while(tmp>0):\n",
    "        r = tmp%2\n",
    "        tmp = tmp//2\n",
    "        binary+=10**i*r\n",
    "        i+=1\n",
    "    \n",
    "    tmp = decimal\n",
    "    if(decimal==0):\n",
    "        hex+='0'\n",
    "    while(tmp>0):\n",
    "        r = tmp%16\n",
    "        tmp=tmp//16\n",
    "        if(r<10):\n",
    "            hex+=str(r)\n",
    "        else:\n",
    "            hex+=hex_symbols[r-10]\n",
    "\n",
    "    return binary, decimal, hex"
   ]
  },
  {
   "cell_type": "code",
   "execution_count": 2,
   "metadata": {},
   "outputs": [
    {
     "name": "stdout",
     "output_type": "stream",
     "text": [
      "(0, 0, '0')\n",
      "(1, 1, '1')\n",
      "(10, 2, '2')\n",
      "(11, 3, '3')\n",
      "(100, 4, '4')\n",
      "(101, 5, '5')\n",
      "(110, 6, '6')\n",
      "(111, 7, '7')\n",
      "(1000, 8, '8')\n",
      "(1001, 9, '9')\n",
      "(1010, 10, 'A')\n",
      "(1011, 11, 'B')\n",
      "(1100, 12, 'C')\n",
      "(1101, 13, 'D')\n",
      "(1110, 14, 'E')\n",
      "(1111, 15, 'F')\n",
      "(10000, 16, '01')\n",
      "(10001, 17, '11')\n",
      "(10010, 18, '21')\n",
      "(10011, 19, '31')\n"
     ]
    }
   ],
   "source": [
    "for i in range(20):\n",
    "    print(convert(i))"
   ]
  },
  {
   "cell_type": "markdown",
   "metadata": {},
   "source": [
    "2\\. Write a function that converts a 32 bit word into a single precision floating point (i.e. interprets the various bits as sign, mantissa and exponent)"
   ]
  },
  {
   "cell_type": "code",
   "execution_count": 80,
   "metadata": {},
   "outputs": [],
   "source": [
    "def float_decode(word):\n",
    "    #bit 31     -> sign\n",
    "    #bit 30-23  -> exponent\n",
    "    #bit 22-0   -> mantissa\n",
    "\n",
    "    sign_mask = 0x40000000\n",
    "    exponent_mask = 0x7F800000\n",
    "    mantissa_mask = 0x7FFFFF\n",
    "    masks = [2**i for i in range(23)]\n",
    "    bias = 127\n",
    "\n",
    "    sign = (word & sign_mask) >> 30\n",
    "    exponent = (word & exponent_mask) >> 23\n",
    "    mantissa = word & mantissa_mask\n",
    "\n",
    "    number = 1\n",
    "    for i, mask in enumerate(masks):\n",
    "        number+= ((mantissa&mask) >> i)*(2**(-len(masks)+i))\n",
    "    number*=(-1)**sign*2**(exponent-bias) \n",
    "\n",
    "    return(number)\n"
   ]
  },
  {
   "cell_type": "code",
   "execution_count": 81,
   "metadata": {},
   "outputs": [
    {
     "name": "stdout",
     "output_type": "stream",
     "text": [
      "-4.5\n"
     ]
    }
   ],
   "source": [
    "print(float_decode(0xc0900000))\n"
   ]
  },
  {
   "cell_type": "markdown",
   "metadata": {},
   "source": [
    "3\\. Write a program to determine the underflow and overflow limits (within a factor of 2) for python on your computer. \n",
    "\n",
    "**Tips**: define two variables inizialized to 1 and halve/double them enough time to exceed the under/over-flow limits  "
   ]
  },
  {
   "cell_type": "markdown",
   "metadata": {},
   "source": [
    "4\\. Write a program to determine the machine precision\n",
    "\n",
    "**Tips**: define a new variable by adding a smaller and smaller value (proceeding similarly to prob. 2) to an original variable and check the point where the two are the same "
   ]
  },
  {
   "cell_type": "code",
   "execution_count": 3,
   "metadata": {},
   "outputs": [
    {
     "name": "stdout",
     "output_type": "stream",
     "text": [
      "decimal digits precision:  16\n"
     ]
    }
   ],
   "source": [
    "def check_precision():\n",
    "    a = 1\n",
    "    b = 2\n",
    "    i = 1\n",
    "\n",
    "    while(b!=a):\n",
    "        b = a + 10**(-i)\n",
    "        i+=1\n",
    "    return i-1\n",
    "    \n",
    "\n",
    "print(\"decimal digits precision: \", check_precision())"
   ]
  },
  {
   "cell_type": "markdown",
   "metadata": {},
   "source": [
    "5\\. Write a function that takes in input three parameters $a$, $b$ and $c$ and prints out the two solutions to the quadratic equation $ax^2+bx+c=0$ using the standard formula:\n",
    "$$\n",
    "x=\\frac{-b\\pm\\sqrt{b^2-4ac}}{2a}\n",
    "$$\n",
    "\n",
    "(a) use the program to compute the solution for $a=0.001$, $b=1000$ and $c=0.001$\n",
    "\n",
    "(b) re-express the standard solution formula by multiplying top and bottom by $-b\\mp\\sqrt{b^2-4ac}$ and again find the solution for $a=0.001$, $b=1000$ and $c=0.001$. How does it compare with what previously obtained? Why?\n",
    "\n",
    "(c) write a function that compute the roots of a quadratic equation accurately in all cases"
   ]
  },
  {
   "cell_type": "code",
   "execution_count": 18,
   "metadata": {},
   "outputs": [
    {
     "name": "stdout",
     "output_type": "stream",
     "text": [
      "(-9.999894245993346e-07, -999999.999999)\n",
      "(-1000010.5755125057, -1.000000000001e-06)\n",
      "(-1000010.5755125057, -1.000000000001e-06)\n"
     ]
    }
   ],
   "source": [
    "from math import sqrt\n",
    "\n",
    "def solve_quadratic(a, b, c):\n",
    "    x1 = (-b + sqrt(b**2-4*a*c))/(2*a)\n",
    "    x2 = (-b - sqrt(b**2-4*a*c))/(2*a)\n",
    "    return x1, x2\n",
    "\n",
    "def solve_quadratic_mul(a, b, c):\n",
    "    x1 = (2*c)/(-b+sqrt(b**2-4*a*c))\n",
    "    x2 = (2*c)/(-b-sqrt(b**2-4*a*c))\n",
    "    return x1, x2\n",
    "\n",
    "#TODO to be implemented\n",
    "def solve_quadratic_mine(a, b, c):\n",
    "    x1 = (2*c)/(-b+sqrt(-4*a*c+b**2))\n",
    "    x2 = (2*c)/(-b-sqrt(-4*a*c+b**2))\n",
    "    return x1, x2\n",
    "\n",
    "#here b is large -> sqrt() is barely b \n",
    "print(solve_quadratic(0.001,1000,0.001))\n",
    "#this is closer to the real solution\n",
    "print(solve_quadratic_mul(0.001,1000,0.001))\n",
    "\n",
    "print(solve_quadratic_mine(0.001,1000,0.001))"
   ]
  },
  {
   "cell_type": "markdown",
   "metadata": {},
   "source": [
    "6\\. Write a program that implements the function $f(x)=x(x−1)$\n",
    "\n",
    "(a) Calculate the derivative of the function at the point $x = 1$ using the derivative definition:\n",
    "\n",
    "$$\n",
    "\\frac{{\\rm d}f}{{\\rm d}x} = \\lim_{\\delta\\to0} \\frac{f(x+\\delta)-f(x)}{\\delta}\n",
    "$$\n",
    "\n",
    "with $\\delta = 10^{−2}$. Calculate the true value of the same derivative analytically and compare with the answer your program gives. The two will not agree perfectly. Why not?\n",
    "\n",
    "(b) Repeat the calculation for $\\delta = 10^{−4}, 10^{−6}, 10^{−8}, 10^{−10}, 10^{−12}$ and $10^{−14}$. How does the accuracy scales with $\\delta$?"
   ]
  },
  {
   "cell_type": "code",
   "execution_count": 21,
   "metadata": {},
   "outputs": [
    {
     "name": "stdout",
     "output_type": "stream",
     "text": [
      "Analytical derivative in x=1:  1\n",
      "Naif numerical derivative in x=1, delta = 0.01:  1.010000000000001\n",
      "Other values: \n",
      "1.0000999999998899\n",
      "1.0000009999177333\n",
      "1.0000000039225287\n",
      "1.000000082840371\n",
      "1.0000889005833413\n"
     ]
    }
   ],
   "source": [
    "def f(x):\n",
    "    return x*(x-1)\n",
    "\n",
    "def f_prime(x):\n",
    "    return 2*x-1\n",
    "\n",
    "def derivative(f, x, delta):\n",
    "    return (f(x+delta) - f(x))/delta\n",
    "\n",
    "print(\"Analytical derivative in x=1: \", f_prime(1))\n",
    "print(\"Naif numerical derivative in x=1, delta = 0.01: \", derivative(f,1,0.01))\n",
    "\n",
    "print(\"Other values: \")\n",
    "\n",
    "for i in range(4, 14, 2):\n",
    "    print(derivative(f,1,10**(-i)))"
   ]
  },
  {
   "cell_type": "markdown",
   "metadata": {},
   "source": [
    "7\\. Consider the integral of the semicircle of radius 1:\n",
    "$$\n",
    "I=\\int_{-1}^{1} \\sqrt(1-x^2) {\\rm d}x\n",
    "$$\n",
    "which it's known to be $I=\\frac{\\pi}{2}=1.57079632679...$.\n",
    "Alternatively we can use the Riemann definition of the integral:\n",
    "$$\n",
    "I=\\lim_{N\\to\\infty} \\sum_{k=1}^{N} h y_k \n",
    "$$\n",
    "\n",
    "with $h=2/N$ the width of each of the $N$ slices the domain is divided into and where\n",
    "$y_k$ is the value of the function at the $k-$th slice.\n",
    "\n",
    "(a) Write a programe to compute the integral with $N=100$. How does the result compares to the true value?\n",
    "\n",
    "(b) How much can $N$ be increased if the computation needs to be run in less than a second? What is the gain in running it for 1 minute? \n"
   ]
  },
  {
   "cell_type": "code",
   "execution_count": 2,
   "metadata": {},
   "outputs": [],
   "source": [
    "from numpy import linspace\n",
    "from math import sqrt\n",
    "def f(x):\n",
    "    return sqrt(1-x*x)\n",
    "\n",
    "def naif_integral(a,b,f, N):\n",
    "    I = 0\n",
    "    grid = linspace(a,b,N)\n",
    "    for x in grid:\n",
    "        I+=f(x)\n",
    "    return I*2/N"
   ]
  },
  {
   "cell_type": "code",
   "execution_count": 3,
   "metadata": {},
   "outputs": [
    {
     "name": "stdout",
     "output_type": "stream",
     "text": [
      "1.553417929404895\n"
     ]
    }
   ],
   "source": [
    "print(naif_integral(-1, 1, f, 100))"
   ]
  },
  {
   "cell_type": "code",
   "execution_count": null,
   "metadata": {},
   "outputs": [],
   "source": []
  }
 ],
 "metadata": {
  "kernelspec": {
   "display_name": "Python 3 (ipykernel)",
   "language": "python",
   "name": "python3"
  },
  "language_info": {
   "codemirror_mode": {
    "name": "ipython",
    "version": 3
   },
   "file_extension": ".py",
   "mimetype": "text/x-python",
   "name": "python",
   "nbconvert_exporter": "python",
   "pygments_lexer": "ipython3",
   "version": "3.10.12"
  }
 },
 "nbformat": 4,
 "nbformat_minor": 2
}
