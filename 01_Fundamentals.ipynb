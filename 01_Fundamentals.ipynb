{
 "cells": [
  {
   "cell_type": "markdown",
   "metadata": {},
   "source": [
    "# Modules/packages/libraries\n",
    "\n",
    "Definitions:\n",
    "\n",
    "  * Modules:\n",
    "  A module is a file which contains python functions, global variables etc. It is nothing but .py file which has python executable code / statement.\n",
    "\n",
    "  * Packages:\n",
    "  A package is a namespace which contains multiple package/modules. It is a directory which contains a special file `__init__.py`\n",
    "  \n",
    "  * Libraries:\n",
    "  A library is a collection of various packages. There is no difference between package and python library conceptually.\n",
    "  \n",
    "Modules/packages/libraries can be easily \"imported\" and made functional in your python code. A set of libriaries comes with every python installation. Others can be installed locally and then imported. Your own code sitting somewhere else in your local computer can be imported too.\n",
    "\n",
    "Further details (very important!) on packages and how to create them can be found online. We may find the need of creating our own during the course."
   ]
  },
  {
   "cell_type": "code",
   "execution_count": 1,
   "metadata": {},
   "outputs": [
    {
     "name": "stdout",
     "output_type": "stream",
     "text": [
      "3.141592653589793\n",
      "3.141592653589793\n",
      "3.141592653589793\n"
     ]
    }
   ],
   "source": [
    "###### all the \"stuff\" that is in the math library can be used\n",
    "import math\n",
    "print(math.pi)\n",
    "\n",
    "# you can give math a label for convenience\n",
    "import math as m\n",
    "print (m.pi)\n",
    "\n",
    "# alternatively you can import only a given \"thing\" from the library\n",
    "from math import pi    #you can add several libraries at once, just list them separated by a \", \"\n",
    "print (pi)\n",
    "\n",
    "# or just get everything (very dangerous!!!)\n",
    "#from math import *\n",
    "#print (sqrt(7))"
   ]
  },
  {
   "cell_type": "markdown",
   "metadata": {},
   "source": [
    "To know which modules are there for you to use just type:"
   ]
  },
  {
   "cell_type": "code",
   "execution_count": 2,
   "metadata": {},
   "outputs": [
    {
     "name": "stdout",
     "output_type": "stream",
     "text": [
      "\n",
      "Please wait a moment while I gather a list of all available modules...\n",
      "\n",
      "Welcome to JupyROOT 6.28/04\n"
     ]
    },
    {
     "name": "stderr",
     "output_type": "stream",
     "text": [
      "/home/ema/.local/lib/python3.10/site-packages/nltk/app/__init__.py:29: UserWarning: nltk.app package not loaded (please install Tkinter library).\n",
      "  warnings.warn(\"nltk.app package not loaded (please install Tkinter library).\")\n",
      "/home/ema/.local/lib/python3.10/site-packages/nltk/draw/__init__.py:15: UserWarning: nltk.draw package not loaded (please install Tkinter library).\n",
      "  warnings.warn(\"nltk.draw package not loaded (please install Tkinter library).\")\n",
      "/home/ema/.local/lib/python3.10/site-packages/nltk/twitter/__init__.py:20: UserWarning: The twython library has not been installed. Some functionality from the twitter package will not be available.\n",
      "  warnings.warn(\n",
      "/home/ema/root/lib/ROOT/_facade.py:154: UserWarning: The numpy.array_api submodule is still experimental. See NEP 47.\n",
      "  return _orig_ihook(name, *args, **kwds)\n",
      "/home/ema/.local/lib/python3.10/site-packages/_distutils_hack/__init__.py:33: UserWarning: Setuptools is replacing distutils.\n",
      "  warnings.warn(\"Setuptools is replacing distutils.\")\n",
      "/home/ema/.local/lib/python3.10/site-packages/torchvision/datapoints/__init__.py:12: UserWarning:\n",
      "\n",
      "The torchvision.datapoints and torchvision.transforms.v2 namespaces are still Beta. While we do not expect major breaking changes, some APIs may still change according to user feedback. Please submit any feedback you may have in this issue: https://github.com/pytorch/vision/issues/6753, and you can also check out https://github.com/pytorch/vision/issues/7319 to learn more about the APIs that we suspect might involve future changes. You can silence this warning by calling torchvision.disable_beta_transforms_warning().\n",
      "\n",
      "/home/ema/.local/lib/python3.10/site-packages/torchvision/transforms/v2/__init__.py:54: UserWarning:\n",
      "\n",
      "The torchvision.datapoints and torchvision.transforms.v2 namespaces are still Beta. While we do not expect major breaking changes, some APIs may still change according to user feedback. Please submit any feedback you may have in this issue: https://github.com/pytorch/vision/issues/6753, and you can also check out https://github.com/pytorch/vision/issues/7319 to learn more about the APIs that we suspect might involve future changes. You can silence this warning by calling torchvision.disable_beta_transforms_warning().\n",
      "\n",
      "/usr/local/lib/python3.10/dist-packages/torch-2.0.1-py3.10-linux-x86_64.egg/torch/distributed/_shard/checkpoint/__init__.py:8: DeprecationWarning:\n",
      "\n",
      "torch.distributed._shard.checkpoint will be deprecated, use torch.distributed.checkpoint instead\n",
      "\n",
      "/usr/local/lib/python3.10/dist-packages/torch-2.0.1-py3.10-linux-x86_64.egg/torch/distributed/_sharded_tensor/__init__.py:8: DeprecationWarning:\n",
      "\n",
      "torch.distributed._sharded_tensor will be deprecated, use torch.distributed._shard.sharded_tensor instead\n",
      "\n",
      "/usr/local/lib/python3.10/dist-packages/torch-2.0.1-py3.10-linux-x86_64.egg/torch/distributed/_sharding_spec/__init__.py:8: DeprecationWarning:\n",
      "\n",
      "torch.distributed._sharding_spec will be deprecated, use torch.distributed._shard.sharding_spec instead\n",
      "\n",
      "/usr/lib/python3/dist-packages/_yaml/__init__.py:18: DeprecationWarning:\n",
      "\n",
      "The _yaml extension module is now located at yaml._yaml and its location is subject to change.  To use the LibYAML-based parser and emitter, import from `yaml`: `from yaml import CLoader as Loader, CDumper as Dumper`.\n",
      "\n",
      "/home/ema/root/lib/ROOT/_facade.py:154: DeprecationWarning:\n",
      "\n",
      "please use 'debian' instead of 'debian_bundle'\n",
      "\n",
      "/usr/lib/python3/dist-packages/janitor/__init__.py:21: DeprecationWarning:\n",
      "\n",
      "Deprecated call to `pkg_resources.declare_namespace('janitor')`.\n",
      "Implementing implicit namespace packages (as specified in PEP 420) is preferred to `pkg_resources.declare_namespace`. See https://setuptools.pypa.io/en/latest/references/keywords.html#keyword-namespace-packages\n",
      "\n",
      "<frozen importlib._bootstrap>:283: DeprecationWarning:\n",
      "\n",
      "the load_module() method is deprecated and slated for removal in Python 3.12; use exec_module() instead\n",
      "\n",
      "<frozen importlib._bootstrap>:671: ImportWarning:\n",
      "\n",
      "DynamicImporter.exec_module() not found; falling back to load_module()\n",
      "\n"
     ]
    },
    {
     "name": "stdout",
     "output_type": "stream",
     "text": [
      "pdfviewer using PyMuPDF (GPL)\n"
     ]
    },
    {
     "name": "stderr",
     "output_type": "stream",
     "text": [
      "/usr/lib/python3/dist-packages/wx/lib/pubsub/__init__.py:23: wxPyDeprecationWarning:\n",
      "\n",
      "wx.lib.pubsub has been deprecated, please migrate your code to use pypubsub, available on PyPI.\n",
      "\n"
     ]
    },
    {
     "name": "stdout",
     "output_type": "stream",
     "text": [
      "CommandNotFound     dataclasses_json    libROOTHistDrawProvider plotly\n",
      "DistRDF             datetime            libROOTLeafDraw6Provider plumbum\n",
      "DistUpgrade         dateutil            libROOTLeafDraw7Provider ply\n",
      "HweSupportStatus    dbm                 libROOTNTuple       poplib\n",
      "IPython             dbus                libROOTNTupleBrowseProvider posix\n",
      "JsMVA               deb822              libROOTNTupleDraw6Provider posixpath\n",
      "JupyROOT            debconf             libROOTNTupleDraw7Provider posthog\n",
      "LanguageSelector    debian              libROOTNTupleUtil   pprint\n",
      "NvidiaDetector      debian_bundle       libROOTObjectDraw6Provider pptx\n",
      "PIL                 debugpy             libROOTObjectDraw7Provider problem_report\n",
      "PyQt5               decimal             libROOTPythonizations2_7 profile\n",
      "Quirks              decorator           libROOTPythonizations3_10 prometheus_client\n",
      "ROOT                defer               libROOTTMVASofie    prompt_toolkit\n",
      "RTFDE               defusedxml          libROOTTMVASofieParser pstats\n",
      "UbuntuDrivers       deprecated          libROOTTPython      psutil\n",
      "UpdateManager       difflib             libROOTTreeViewer   pty\n",
      "__future__          dis                 libROOTVecOps       ptyprocess\n",
      "_abc                distlib             libROOTWebDisplay   pure_eval\n",
      "_aix_support        distro              libRSQLite          pwd\n",
      "_argon2_cffi_bindings distro_info         libRecorder         py_compile\n",
      "_ast                distutils           libRint             pyclbr\n",
      "_asyncio            doctest             libRooBatchCompute  pycparser\n",
      "_bisect             docx                libRooBatchCompute_AVX pydantic\n",
      "_blake2             dotenv              libRooBatchCompute_AVX2 pydoc\n",
      "_bootsubprocess     duckdb              libRooBatchCompute_AVX512 pydoc_data\n",
      "_bz2                easygui             libRooBatchCompute_GENERIC pyexpat\n",
      "_cffi_backend       ebcdic              libRooFit           pygments\n",
      "_codecs             email               libRooFitCommon     pygtkcompat\n",
      "_codecs_cn          encodings           libRooFitCore       pylab\n",
      "_codecs_hk          ensurepip           libRooFitHS3        pypandoc\n",
      "_codecs_iso2022     enum                libRooFitJSONInterface pyparsing\n",
      "_codecs_jp          errno               libRooFitMore       pyrsistent\n",
      "_codecs_kr          et_xmlfile          libRooFitMultiProcess pythonjsonlogger\n",
      "_codecs_tw          exceptiongroup      libRooFitRDataFrameHelpers pytz\n",
      "_collections        executing           libRooFitXRooFit    pytz_deprecation_shim\n",
      "_collections_abc    extract_msg         libRooFitZMQ        queue\n",
      "_compat_pickle      fastapi             libRooStats         quopri\n",
      "_compression        fastjsonschema      libRootAuth         random\n",
      "_contextvars        faulthandler        libSPlot            re\n",
      "_crypt              fcntl               libSQLIO            readline\n",
      "_csv                filecmp             libSessionViewer    red_black_dict_mod\n",
      "_ctypes             fileinput           libSmatrix          red_black_set_mod\n",
      "_ctypes_test        filelock            libSpectrum         regex\n",
      "_curses             fitz                libSpectrumPainter  regressormetricgraphplot\n",
      "_curses_panel       fnmatch             libSrvAuth          reportlab\n",
      "_datetime           fontTools           libTMVA             reprlib\n",
      "_dbm                fqdn                libTMVAGui          requests\n",
      "_dbus_bindings      fractions           libThread           resource\n",
      "_dbus_glib_bindings frozenlist          libTree             rfc3339_validator\n",
      "_decimal            fsspec              libTreePlayer       rfc3986\n",
      "_distutils_hack     ftplib              libTreeViewer       rfc3986_validator\n",
      "_distutils_system_mod functools           libUnfold           rich\n",
      "_elementtree        functorch           libUnuran           rlcompleter\n",
      "_functools          galternatives       libWebGui6          runpy\n",
      "_gdbm               gc                  libX3d              safetensors\n",
      "_hashlib            genericpath         libXMLIO            scanext\n",
      "_heapq              getopt              libXMLParser        sched\n",
      "_imp                getpass             libXrdAppUtils      scipy\n",
      "_io                 gettext             libXrdBlacklistDecision-5 seaborn\n",
      "_json               gi                  libXrdBwm-5         secrets\n",
      "_ldb_text           glob                libXrdCksCalczcrc32-5 secretstorage\n",
      "_locale             googlesearch        libXrdCl            select\n",
      "_lsprof             gpt4all             libXrdClHttp-5      selectors\n",
      "_lzma               graphlib            libXrdClProxyPlugin-5 send2trash\n",
      "_markupbase         greenlet            libXrdClRecorder-5  sentence_transformers\n",
      "_md5                grp                 libXrdCmsRedirectLocal-5 sentencepiece\n",
      "_multibytecodec     gzip                libXrdCrypto        setuptools\n",
      "_multiprocessing    h11                 libXrdCryptoLite    shelve\n",
      "_opcode             h5py                libXrdCryptossl-5   shlex\n",
      "_operator           hashlib             libXrdFfs           shutil\n",
      "_osx_support        heapq               libXrdFileCache-5   signal\n",
      "_pcbnew             hmac                libXrdHttp-5        site\n",
      "_pickle             hnswlib             libXrdHttpTPC-5     sitecustomize\n",
      "_plotly_future_     hpmudext            libXrdHttpUtils     six\n",
      "_plotly_utils       html                libXrdN2No2p-5      sklearn\n",
      "_posixshmem         http                libXrdOfsPrepGPI-5  smtpd\n",
      "_posixsubprocess    httpcore            libXrdOssCsi-5      smtplib\n",
      "_py_abc             httplib2            libXrdOssSIgpfsT-5  sndhdr\n",
      "_pydecimal          httptools           libXrdPfc-5         sniffio\n",
      "_pyio               httpx               libXrdPosix         snntorch\n",
      "_pyrsistent_version huggingface_hub     libXrdPosixPreload  socket\n",
      "_queue              idna                libXrdPss-5         socketserver\n",
      "_random             imapclient          libXrdSec-5         softwareproperties\n",
      "_sha1               imaplib             libXrdSecProt-5     soupsieve\n",
      "_sha256             imghdr              libXrdSecgsi-5      spwd\n",
      "_sha3               imp                 libXrdSecgsiAUTHZVO-5 sqlalchemy\n",
      "_sha512             importlib           libXrdSecgsiGMAPDN-5 sqlite3\n",
      "_signal             importlib_metadata  libXrdSecpwd-5      sre_compile\n",
      "_sitebuiltins       inspect             libXrdSecsss-5      sre_constants\n",
      "_socket             io                  libXrdSecunix-5     sre_parse\n",
      "_sqlite3            ipaddress           libXrdServer        ssh_import_id\n",
      "_sre                ipykernel           libXrdSsi-5         ssl\n",
      "_ssl                ipykernel_launcher  libXrdSsiLib        stack_data\n",
      "_stat               ipympl              libXrdSsiLog-5      starlette\n",
      "_statistics         ipython_genutils    libXrdSsiShMap      stat\n",
      "_string             ipywidgets          libXrdThrottle-5    statistics\n",
      "_strptime           isoduration         libXrdUtils         statsmodels\n",
      "_struct             isympy              libXrdXml           string\n",
      "_symtable           itertools           libXrdXrootd-5      stringprep\n",
      "_sysconfigdata__linux_x86_64-linux-gnu janitor             libcomplexDict      struct\n",
      "_sysconfigdata__x86_64-linux-gnu jedi                libcppyy2_7         subprocess\n",
      "_testbuffer         jeepney             libcppyy3_10        sunau\n",
      "_testcapi           jinja2              libcppyy_backend2_7 sympy\n",
      "_testclinic         joblib              libcppyy_backend3_10 symtable\n",
      "_testimportmultiple json                libdequeDict        sys\n",
      "_testinternalcapi   json5               libforward_listDict sysconfig\n",
      "_testmultiphase     jsonpointer         liblistDict         syslog\n",
      "_thread             jsonschema          libmap2Dict         systemd\n",
      "_threading_local    jupyter             libmapDict          tabnanny\n",
      "_tracemalloc        jupyter_client      libmultimap2Dict    tabulate\n",
      "_uuid               jupyter_core        libmultimapDict     talloc\n",
      "_warnings           jupyter_events      libmultisetDict     tarfile\n",
      "_weakref            jupyter_lsp         libsetDict          telnetlib\n",
      "_weakrefset         jupyter_server      libtbb              tempfile\n",
      "_xxsubinterpreters  jupyter_server_terminals libtbbmalloc        tenacity\n",
      "_xxtestfuzz         jupyterlab          libtbbmalloc_proxy  termcolor\n",
      "_yaml               jupyterlab_plotly   libunordered_mapDict terminado\n",
      "_zoneinfo           jupyterlab_pygments libunordered_multimapDict termios\n",
      "abc                 jupyterlab_server   libunordered_multisetDict test\n",
      "aifc                jupyterlab_widgets  libunordered_setDict test_unstructured\n",
      "aiohttp             jwt                 libvalarrayDict     tests\n",
      "aiosignal           keyring             libvdt              textwrap\n",
      "antigravity         keyword             libvectorDict       this\n",
      "anyio               kiwisolver          linecache           threading\n",
      "apport              langchain           lit                 threadpoolctl\n",
      "apport_python_hook  langchainplus_sdk   llama_cpp           time\n",
      "apt                 language_support_pkgs locale              timeit\n",
      "apt_inst            lark                logging             tinycss2\n",
      "apt_pkg             launchpadlib        lsb_release         token\n",
      "aptdaemon           ldb                 lubuntu-update-notifier tokenize\n",
      "aptsources          lib2to3             lxml                tokenizers\n",
      "argilla             libASImage          lz4                 tomli\n",
      "argon2              libASImageGui       lzma                torch\n",
      "argparse            libCling            magic               torchaudio\n",
      "array               libCore             mailbox             torchgen\n",
      "arrow               libEG               mailcap             torchvision\n",
      "ast                 libEve              markdown            tornado\n",
      "asttokens           libFFTW             markupsafe          tqdm\n",
      "async_lru           libFITSIO           marshal             trace\n",
      "async_timeout       libFTGL             marshmallow         traceback\n",
      "asynchat            libFitPanel         marshmallow_enum    tracemalloc\n",
      "asyncio             libFoam             math                traitlets\n",
      "asyncore            libFumili           matplotlib          transformers\n",
      "atexit              libGLEW             matplotlib_inline   triton\n",
      "attr                libGX11             mimetypes           tty\n",
      "attrs               libGX11TTF          mistune             turtle\n",
      "audioop             libGdml             mmap                typer\n",
      "awkward             libGed              modulefinder        types\n",
      "awkward_cpp         libGenVector        monotonic           typing\n",
      "axi                 libGenetic          more_itertools      typing_extensions\n",
      "babel               libGeom             mpl_toolkits        typing_inspect\n",
      "backcall            libGeomBuilder      mpmath              tzdata\n",
      "backoff             libGeomPainter      msg_parser          tzlocal\n",
      "base64              libGpad             msoffcrypto         uaclient\n",
      "bdb                 libGraf             multidict           ufw\n",
      "binascii            libGraf3d           multiprocessing     unicodedata\n",
      "binhex              libGui              mypy_extensions     unittest\n",
      "bisect              libGuiBld           nbclassic           uno\n",
      "bleach              libGuiHtml          nbclient            unohelper\n",
      "blinker             libGviz3d           nbconvert           unstructured\n",
      "bs4                 libHbook            nbformat            uproot\n",
      "builtins            libHist             nest_asyncio        uri_template\n",
      "bz2                 libHistFactory      netifaces           urllib\n",
      "cProfile            libHistPainter      netrc               urllib3\n",
      "cairo               libHtml             networkx            usbcreator\n",
      "calendar            libImt              nis                 uu\n",
      "certifi             libJupyROOT2_7      nltk                uuid\n",
      "cffi                libJupyROOT3_10     nntplib             uvicorn\n",
      "cgi                 libMLP              notebook            uvloop\n",
      "cgitb               libMathCore         notebook_shim       venv\n",
      "chardet             libMathMore         ntpath              virtualenv\n",
      "charset_normalizer  libMatrix           nturl2path          wadllib\n",
      "chromadb            libMinuit           numbers             warnings\n",
      "chunk               libMinuit2          numexpr             watchfiles\n",
      "click               libMultiProc        numpy               wave\n",
      "clickhouse_connect  libNet              nvfuser             wcwidth\n",
      "cmake               libNetxNG           nvidia              weakref\n",
      "cmath               libNew              oauthlib            webbrowser\n",
      "cmd                 libPgSQL            olefile             webcolors\n",
      "cmdLineUtils        libPhysics          oletools            webencodings\n",
      "code                libPostscript       opcode              websocket\n",
      "codecs              libProof            openapi_schema_pydantic websockets\n",
      "codeop              libProofBench       openpyxl            wheel\n",
      "collections         libProofDraw        operator            widgetsnbextension\n",
      "colorama            libProofPlayer      optparse            wrapt\n",
      "colorclass          libPyMVA            os                  wsgiref\n",
      "colorlover          libQuadp            ossaudiodev         wx\n",
      "colorsys            libRCsg             overrides           xapian\n",
      "comm                libRDAVIX           packaging           xdg\n",
      "commonmark          libRGL              pandas              xdrlib\n",
      "compileall          libRHTTP            pandoc              xgboost\n",
      "compressed_rtf      libRHTTPSniff       pandocfilters       xkit\n",
      "concurrent          libRIO              parso               xlsxwriter\n",
      "configparser        libRMySQL           pathlib             xml\n",
      "contextlib          libROOTBranchBrowseProvider patsy               xmlrpc\n",
      "contextvars         libROOTBrowsable    pcardext            xxlimited\n",
      "contourpy           libROOTBrowserGeomWidget pcbnew              xxlimited_35\n",
      "copy                libROOTBrowserRCanvasWidget pcodedmp            xxsubtype\n",
      "copyreg             libROOTBrowserTCanvasWidget pdb                 yaml\n",
      "cppyy               libROOTBrowserTreeWidget pdfminer            yarl\n",
      "cppyy_backend       libROOTBrowserWidgets pexpect             zipapp\n",
      "crypt               libROOTBrowserv7    pickle              zipfile\n",
      "cryptography        libROOTCanvasPainter pickleshare         zipimport\n",
      "csv                 libROOTDataFrame    pickletools         zipp\n",
      "ctypes              libROOTEve          pip                 zlib\n",
      "cups                libROOTFitPanelv7   pipes               zmq\n",
      "cupsext             libROOTGeomViewer   pkg_resources       zoneinfo\n",
      "cupshelpers         libROOTGpadv7       pkgutil             zstandard\n",
      "curses              libROOTGraphicsPrimitives platform            \n",
      "cycler              libROOTHist         platformdirs        \n",
      "dataclasses         libROOTHistDraw     plistlib            \n",
      "\n",
      "Enter any module name to get more help.  Or, type \"modules spam\" to search\n",
      "for modules whose name or summary contain the string \"spam\".\n",
      "\n",
      "None\n"
     ]
    }
   ],
   "source": [
    "print (help('modules') )\n"
   ]
  },
  {
   "cell_type": "markdown",
   "metadata": {},
   "source": [
    "`pip` is a special package. It is used from the command line to install properly (e.g. matching the version of the local packages) new packages. It can also be used from within python to check i.e. the set installed packages and their versions. N.B.: only the installed packages on top of the default ones will be listed "
   ]
  },
  {
   "cell_type": "code",
   "execution_count": 3,
   "metadata": {},
   "outputs": [
    {
     "name": "stdout",
     "output_type": "stream",
     "text": [
      "['aiohttp==3.8.4', 'aiosignal==1.3.1', 'anyio==3.7.1', 'apt-xapian-index==0.49', 'argilla==1.12.0', 'argon2-cffi-bindings==21.2.0', 'argon2-cffi==21.3.0', 'arrow==1.2.3', 'asttokens==2.2.1', 'async-lru==2.0.2', 'async-timeout==4.0.2', 'attrs==23.1.0', 'awkward-cpp==21', 'awkward==2.3.1', 'babel==2.12.1', 'backcall==0.2.0', 'backoff==2.2.1', 'beautifulsoup4==4.12.2', 'bleach==6.0.0', 'blinker==1.4', 'certifi==2023.5.7', 'cffi==1.15.1', 'chardet==4.0.0', 'charset-normalizer==3.1.0', 'chromadb==0.3.23', 'click==8.0.3', 'clickhouse-connect==0.6.5', 'cmake==3.26.4', 'colorama==0.4.4', 'colorclass==2.2.2', 'colorlover==0.3.0', 'comm==0.1.3', 'command-not-found==0.3', 'commonmark==0.9.1', 'compressed-rtf==1.0.6', 'contourpy==1.1.0', 'cryptography==41.0.1', 'cupshelpers==1.0', 'cycler==0.11.0', 'dataclasses-json==0.5.9', 'dbus-python==1.2.18', 'debugpy==1.6.7', 'decorator==5.1.1', 'defer==1.0.6', 'defusedxml==0.7.1', 'deprecated==1.2.14', 'distlib==0.3.6', 'distro-info==1.1build1', 'distro==1.7.0', 'duckdb==0.8.1', 'easygui==0.98.3', 'ebcdic==1.1.1', 'et-xmlfile==1.1.0', 'exceptiongroup==1.1.1', 'executing==1.2.0', 'extract-msg==0.41.1', 'fastapi==0.99.1', 'fastjsonschema==2.17.1', 'filelock==3.12.2', 'fonttools==4.40.0', 'fqdn==1.5.1', 'frozenlist==1.3.3', 'fsspec==2023.6.0', 'galternatives==1.0.8', 'googlesearch-python==1.2.3', 'gpt4all==0.3.4', 'greenlet==2.0.2', 'h11==0.14.0', 'h5py==3.10.0', 'hnswlib==0.7.0', 'httpcore==0.16.3', 'httplib2==0.20.2', 'httptools==0.5.0', 'httpx==0.23.3', 'huggingface-hub==0.16.2', 'idna==3.4', 'imapclient==2.3.1', 'importlib-metadata==4.6.4', 'ipykernel==6.23.2', 'ipympl==0.9.3', 'ipython-genutils==0.2.0', 'ipython==8.14.0', 'ipywidgets==8.1.1', 'isoduration==20.11.0', 'jedi==0.18.2', 'jeepney==0.7.1', 'jinja2==3.1.2', 'joblib==1.2.0', 'json5==0.9.14', 'jsonpointer==2.4', 'jsonschema==4.17.3', 'jupyter-client==8.2.0', 'jupyter-core==5.3.1', 'jupyter-events==0.6.3', 'jupyter-lsp==2.2.0', 'jupyter-server-terminals==0.4.4', 'jupyter-server==2.6.0', 'jupyterlab-pygments==0.2.2', 'jupyterlab-server==2.23.0', 'jupyterlab-widgets==3.0.9', 'jupyterlab==4.0.2', 'keyring==23.5.0', 'kiwisolver==1.4.4', 'langchain==0.0.197', 'langchainplus-sdk==0.0.20', 'language-selector==0.1', 'lark-parser==0.12.0', 'launchpadlib==1.10.16', 'lazr.restfulclient==0.14.4', 'lazr.uri==1.0.6', 'lit==16.0.6', 'llama-cpp-python==0.1.50', 'lubuntu-update-notifier==0.4.dev0', 'lxml==4.9.3', 'lz4==4.3.2', 'markdown==3.4.3', 'markupsafe==2.1.3', 'marshmallow-enum==1.5.1', 'marshmallow==3.19.0', 'matplotlib-inline==0.1.6', 'matplotlib==3.7.1', 'mistune==2.0.5', 'monotonic==1.6', 'more-itertools==8.10.0', 'mpmath==1.3.0', 'msg-parser==1.2.0', 'msoffcrypto-tool==5.0.1', 'multidict==6.0.4', 'mypy-extensions==1.0.0', 'nbclassic==1.0.0', 'nbclient==0.8.0', 'nbconvert==7.5.0', 'nbformat==5.9.0', 'nest-asyncio==1.5.6', 'netifaces==0.11.0', 'networkx==3.1', 'nltk==3.8.1', 'notebook-shim==0.2.3', 'notebook==6.5.4', 'numexpr==2.8.4', 'numpy==1.23.5', 'nvidia-cublas-cu11==11.10.3.66', 'nvidia-cuda-cupti-cu11==11.7.101', 'nvidia-cuda-nvrtc-cu11==11.7.99', 'nvidia-cuda-runtime-cu11==11.7.99', 'nvidia-cudnn-cu11==8.5.0.96', 'nvidia-cufft-cu11==10.9.0.58', 'nvidia-curand-cu11==10.2.10.91', 'nvidia-cusolver-cu11==11.4.0.1', 'nvidia-cusparse-cu11==11.7.4.91', 'nvidia-nccl-cu11==2.14.3', 'nvidia-nvtx-cu11==11.7.91', 'oauthlib==3.2.0', 'olefile==0.46', 'oletools==0.60.1', 'openapi-schema-pydantic==1.2.4', 'openpyxl==3.1.2', 'overrides==7.3.1', 'packaging==23.1', 'pandas==1.5.3', 'pandoc==2.3', 'pandocfilters==1.5.0', 'parso==0.8.3', 'patsy==0.5.6', 'pcodedmp==1.2.6', 'pdfminer.six==20221105', 'pexpect==4.8.0', 'pickleshare==0.7.5', 'pillow==9.0.1', 'pip==23.3.1', 'platformdirs==3.6.0', 'plot-metric==0.0.6', 'plotly==5.18.0', 'plumbum==1.8.2', 'ply==3.11', 'posthog==3.0.1', 'prometheus-client==0.17.0', 'prompt-toolkit==3.0.38', 'psutil==5.9.5', 'ptyprocess==0.7.0', 'pure-eval==0.2.2', 'pycairo==1.20.1', 'pycparser==2.21', 'pycups==2.0.1', 'pydantic==1.10.11', 'pygments==2.15.1', 'pygobject==3.42.1', 'pyjwt==2.3.0', 'pymupdf==1.22.3', 'pynmsnn==0.0.3', 'pypandoc==1.11', 'pyparsing==2.4.7', 'pyqt5-sip==12.9.1', 'pyqt5==5.15.6', 'pyrsistent==0.19.3', 'python-apt==2.4.0+ubuntu1', 'python-dateutil==2.8.2', 'python-debian==0.1.43+ubuntu1.1', 'python-docx==0.8.11', 'python-dotenv==1.0.0', 'python-json-logger==2.0.7', 'python-magic==0.4.27', 'python-pptx==0.6.21', 'pytz-deprecation-shim==0.1.0.post0', 'pytz==2023.3', 'pyxdg==0.27', 'pyyaml==5.4.1', 'pyzmq==25.1.0', 'red-black-tree-mod==1.20', 'regex==2023.6.3', 'regressormetricgraphplot==0.0.3', 'reportlab==3.6.8', 'requests==2.31.0', 'rfc3339-validator==0.1.4', 'rfc3986-validator==0.1.1', 'rfc3986==1.5.0', 'rich==13.0.1', 'rtfde==0.0.2', 'safetensors==0.3.1', 'scikit-learn==1.2.2', 'scipy==1.10.1', 'seaborn==0.12.2', 'secretstorage==3.3.1', 'send2trash==1.8.2', 'sentence-transformers==2.2.2', 'sentencepiece==0.1.99', 'setuptools==67.8.0', 'six==1.16.0', 'sniffio==1.3.0', 'snntorch==0.6.4', 'soupsieve==2.4.1', 'sqlalchemy==2.0.18', 'ssh-import-id==5.11', 'stack-data==0.6.2', 'starlette==0.27.0', 'statsmodels==0.14.1', 'sympy==1.12', 'systemd-python==234', 'tabulate==0.9.0', 'tenacity==8.2.2', 'termcolor==2.3.0', 'terminado==0.17.1', 'threadpoolctl==3.1.0', 'tinycss2==1.2.1', 'tokenizers==0.13.3', 'tomli==2.0.1', 'torch==2.0.1', 'torchaudio==2.0.2+cpu', 'torchvision==0.15.2', 'tornado==6.3.2', 'tqdm==4.65.0', 'traitlets==5.9.0', 'transformers==4.30.2', 'triton==2.0.0', 'typer==0.7.0', 'typing-extensions==4.6.3', 'typing-inspect==0.9.0', 'tzdata==2023.3', 'tzlocal==4.2', 'ubuntu-advantage-tools==8001', 'ubuntu-drivers-common==0.0.0', 'ufw==0.36.1', 'unattended-upgrades==0.1', 'unstructured==0.6.6', 'uproot==5.0.10', 'uri-template==1.2.0', 'urllib3==2.0.2', 'usb-creator==0.3.7', 'uvicorn==0.22.0', 'uvloop==0.17.0', 'virtualenv==20.23.1', 'wadllib==1.3.6', 'watchfiles==0.19.0', 'wcwidth==0.2.6', 'webcolors==1.13', 'webencodings==0.5.1', 'websocket-client==1.6.0', 'websockets==11.0.3', 'wheel==0.40.0', 'widgetsnbextension==4.0.9', 'wrapt==1.14.1', 'wxpython==4.2.0', 'xdg==5', 'xgboost==1.7.5', 'xkit==0.0.0', 'xlsxwriter==3.1.2', 'yarl==1.9.2', 'zipp==1.0.0', 'zstandard==0.21.0']\n"
     ]
    }
   ],
   "source": [
    "try:\n",
    "    # this doesn't work anymore\n",
    "    import pip\n",
    "    sorted([\"%s==%s\" % (i.key, i.version) for i in pip._internal.utils.misc.get_installed_distributions()])\n",
    "\n",
    "except:\n",
    "    # use this instead\n",
    "    import pkg_resources\n",
    "    installed_packages = pkg_resources.working_set\n",
    "    installed_packages_list = sorted([\"%s==%s\" % (i.key, i.version)\n",
    "       for i in installed_packages])\n",
    "    print(installed_packages_list)\n"
   ]
  },
  {
   "cell_type": "markdown",
   "metadata": {},
   "source": [
    "# Functions"
   ]
  },
  {
   "cell_type": "code",
   "execution_count": 4,
   "metadata": {},
   "outputs": [
    {
     "name": "stdout",
     "output_type": "stream",
     "text": [
      "9\n",
      "27\n",
      "cube 27\n",
      "square 9\n"
     ]
    }
   ],
   "source": [
    "def square(x):\n",
    "    \"\"\"Square of x.\"\"\"\n",
    "    return x*x\n",
    "\n",
    "def cube(x):\n",
    "    \"\"\"Cube of x.\"\"\"\n",
    "    return x*x*x\n",
    "\n",
    "# create a dictionary of functions\n",
    "funcs = {\n",
    "    'square': square,\n",
    "    'cube': cube,\n",
    "}\n",
    "\n",
    "x = 3\n",
    "print(square(x))\n",
    "print(cube(x))\n",
    "\n",
    "for func in sorted(funcs):\n",
    "    print (func, funcs[func](x))"
   ]
  },
  {
   "cell_type": "markdown",
   "metadata": {},
   "source": [
    "## Functions arguments"
   ]
  },
  {
   "cell_type": "markdown",
   "metadata": {},
   "source": [
    "What is passsed to a function is a copy of the input. Imagine we have a list *x =[1, 2, 3]*, i.e. a mutable object. If within the function the content of *x* is directly changed (e.g. *x[0] = 999*), then *x* changes outside the funciton as well. "
   ]
  },
  {
   "cell_type": "code",
   "execution_count": 5,
   "metadata": {},
   "outputs": [
    {
     "name": "stdout",
     "output_type": "stream",
     "text": [
      "[1, 2, 3]\n",
      "[999, 2, 3]\n",
      "[999, 2, 3]\n"
     ]
    }
   ],
   "source": [
    "def modify(x):\n",
    "    x[0] = 999\n",
    "    return x\n",
    "\n",
    "x = [1,2,3]\n",
    "print (x)\n",
    "print (modify(x))\n",
    "print (x)"
   ]
  },
  {
   "cell_type": "markdown",
   "metadata": {},
   "source": [
    "However, if *x* is reassigned within the function to a new object (e.g. another list), then the copy of the name *x* now points to the new object, but *x* outside the function is unhcanged."
   ]
  },
  {
   "cell_type": "code",
   "execution_count": 6,
   "metadata": {},
   "outputs": [
    {
     "name": "stdout",
     "output_type": "stream",
     "text": [
      "[1, 2, 3]\n",
      "[4, 5, 6]\n",
      "[1, 2, 3]\n"
     ]
    }
   ],
   "source": [
    "def no_modify(x):\n",
    "    x = [4,5,6]\n",
    "    return x\n",
    "\n",
    "x = [1,2,3]\n",
    "print (x)\n",
    "print (no_modify(x))\n",
    "print (x)\n"
   ]
  },
  {
   "cell_type": "markdown",
   "metadata": {},
   "source": [
    "What if the function tries to modify the value of an immutable object?"
   ]
  },
  {
   "cell_type": "markdown",
   "metadata": {},
   "source": [
    "Binding of default arguments occurs at function definition:"
   ]
  },
  {
   "cell_type": "code",
   "execution_count": 7,
   "metadata": {},
   "outputs": [
    {
     "name": "stdout",
     "output_type": "stream",
     "text": [
      "[1]\n",
      "[1, 1]\n",
      "[9, 9, 9, 1]\n",
      "[1, 1, 1]\n",
      "[1, 1, 1, 1]\n"
     ]
    }
   ],
   "source": [
    "def f(x = []):\n",
    "    x.append(1)\n",
    "    return x\n",
    "\n",
    "print (f())\n",
    "print (f())\n",
    "print (f(x = [9,9,9]))\n",
    "print (f())\n",
    "print (f())"
   ]
  },
  {
   "cell_type": "markdown",
   "metadata": {},
   "source": [
    "Try to aviod that!!"
   ]
  },
  {
   "cell_type": "code",
   "execution_count": 8,
   "metadata": {},
   "outputs": [
    {
     "name": "stdout",
     "output_type": "stream",
     "text": [
      "[1]\n",
      "[1]\n",
      "[9, 9, 9, 1]\n",
      "[1]\n",
      "[1]\n"
     ]
    }
   ],
   "source": [
    "def f(x = None):\n",
    "    if x is None:\n",
    "        x = []\n",
    "    x.append(1)\n",
    "    return x\n",
    "\n",
    "print (f())\n",
    "print (f())\n",
    "print (f(x = [9,9,9]))\n",
    "print (f())\n",
    "print (f())"
   ]
  },
  {
   "cell_type": "markdown",
   "metadata": {},
   "source": [
    "## Higher order functions\n",
    "\n",
    "A function that uses another function as an input argument or returns a function is known as a higher-order function (HOF). The most familiar examples are `map` and `filter`."
   ]
  },
  {
   "cell_type": "markdown",
   "metadata": {},
   "source": [
    "### map\n",
    "\n",
    "The map function applies a function to each member of a collection"
   ]
  },
  {
   "cell_type": "code",
   "execution_count": 9,
   "metadata": {},
   "outputs": [
    {
     "name": "stdout",
     "output_type": "stream",
     "text": [
      "[0, 1, 4, 9, 16]\n",
      "0\n",
      "1\n",
      "4\n",
      "9\n",
      "16\n"
     ]
    },
    {
     "data": {
      "text/plain": [
       "[0, 1, 4, 9, 16, 25]"
      ]
     },
     "execution_count": 9,
     "metadata": {},
     "output_type": "execute_result"
    }
   ],
   "source": [
    "x = list(map(square, range(5))) \n",
    "print (x)\n",
    "\n",
    "# Note the difference w.r.t python 2. In python 3 map retuns an iterator so you can do stuff like:\n",
    "for i in map(square,range(5)): print(i)\n",
    "\n",
    "# or\n",
    "[i for i in map(square,range(6))]"
   ]
  },
  {
   "cell_type": "markdown",
   "metadata": {},
   "source": [
    "### filter\n",
    "\n",
    "The filter function applies a predicate to each member of a collection, retaining only those members where the predicate is True"
   ]
  },
  {
   "cell_type": "code",
   "execution_count": 10,
   "metadata": {},
   "outputs": [
    {
     "name": "stdout",
     "output_type": "stream",
     "text": [
      "[0, 2, 4]\n"
     ]
    }
   ],
   "source": [
    "def is_even(x):\n",
    "    return x%2 == 0\n",
    "\n",
    "print (list(filter(is_even, range(5))))"
   ]
  },
  {
   "cell_type": "markdown",
   "metadata": {},
   "source": [
    "Combinations in sequence of HOF are obviously possible"
   ]
  },
  {
   "cell_type": "code",
   "execution_count": 11,
   "metadata": {},
   "outputs": [
    {
     "data": {
      "text/plain": [
       "[0, 4, 16]"
      ]
     },
     "execution_count": 11,
     "metadata": {},
     "output_type": "execute_result"
    }
   ],
   "source": [
    "list(map(square, filter(is_even, range(5))))"
   ]
  },
  {
   "cell_type": "markdown",
   "metadata": {},
   "source": [
    "### reduce\n",
    "\n",
    "The reduce function reduces a collection using a binary operator to combine items two at a time. More often than not reduce can be substituted with a more efficient for loop. It is worth mentioning it for its key role in big-data applications together with map (the map-reduce paradigm). \n",
    "N.B.: it no loger exist as built-in function in python 3, it is now part of the `functools` library"
   ]
  },
  {
   "cell_type": "code",
   "execution_count": 12,
   "metadata": {},
   "outputs": [
    {
     "data": {
      "text/plain": [
       "15"
      ]
     },
     "execution_count": 12,
     "metadata": {},
     "output_type": "execute_result"
    }
   ],
   "source": [
    "from functools import reduce\n",
    "\n",
    "def my_add(x, y):\n",
    "    return x + y\n",
    "\n",
    "# another implementation of the sum function\n",
    "reduce(my_add, [1,2,3,4,5])"
   ]
  },
  {
   "cell_type": "markdown",
   "metadata": {},
   "source": [
    "### zip\n",
    "\n",
    "zip is useful when you need to iterate over matched elements of multiple lists"
   ]
  },
  {
   "cell_type": "code",
   "execution_count": 13,
   "metadata": {},
   "outputs": [
    {
     "name": "stdout",
     "output_type": "stream",
     "text": [
      "1 10 a\n",
      "2 20 b\n",
      "3 30 c\n"
     ]
    }
   ],
   "source": [
    "xs = [1, 2, 3, 4]\n",
    "ys = [10, 20, 30, 40]\n",
    "zs = ['a', 'b', 'c',]\n",
    "\n",
    "for x, y, z in zip(xs, ys, zs):\n",
    "    print (x, y, z)"
   ]
  },
  {
   "cell_type": "markdown",
   "metadata": {},
   "source": [
    "### Custom HOF"
   ]
  },
  {
   "cell_type": "code",
   "execution_count": 14,
   "metadata": {},
   "outputs": [
    {
     "name": "stdout",
     "output_type": "stream",
     "text": [
      "30\n",
      "100\n"
     ]
    }
   ],
   "source": [
    "def custom_sum(xs, transform):\n",
    "    \"\"\"Returns the sum of xs after a user specified transform.\"\"\"\n",
    "    return sum(map(transform, xs))\n",
    "\n",
    "xs = range(5)\n",
    "print (custom_sum(xs, square))\n",
    "print (custom_sum(xs, cube))\n",
    "\n"
   ]
  },
  {
   "cell_type": "markdown",
   "metadata": {},
   "source": [
    "### Returning a function"
   ]
  },
  {
   "cell_type": "code",
   "execution_count": 15,
   "metadata": {},
   "outputs": [],
   "source": [
    "def make_logger(target):\n",
    "    def logger(data):\n",
    "        with open(target, 'a') as f:\n",
    "            f.write(data + '\\n')\n",
    "    return logger\n",
    "\n",
    "foo_logger = make_logger('foo.txt') #foo.txt will be created if not there already\n",
    "foo_logger('Hello')\n",
    "foo_logger('World')"
   ]
  },
  {
   "cell_type": "code",
   "execution_count": 16,
   "metadata": {},
   "outputs": [
    {
     "name": "stdout",
     "output_type": "stream",
     "text": [
      "Hello\n",
      "World\n"
     ]
    }
   ],
   "source": [
    "! cat 'foo.txt'"
   ]
  },
  {
   "cell_type": "markdown",
   "metadata": {},
   "source": [
    "## Anonimous functions (lambda)\n",
    "\n",
    "When using functional style, there is often the need to create specific functions that perform a limited task as input to a HOF such as map or filter. In such cases, these functions are often written as anonymous or lambda functions. \n",
    "The syntax is as follows:\n",
    "\n",
    "lambda *arguments* : *expression*\n",
    "\n",
    "\n",
    "If you find it hard to understand what a lambda function is doing, it should probably be rewritten as a regular function."
   ]
  },
  {
   "cell_type": "code",
   "execution_count": 17,
   "metadata": {},
   "outputs": [
    {
     "data": {
      "text/plain": [
       "7"
      ]
     },
     "execution_count": 17,
     "metadata": {},
     "output_type": "execute_result"
    }
   ],
   "source": [
    "suml = lambda x,y: x+y\n",
    "suml(3,4)"
   ]
  },
  {
   "cell_type": "code",
   "execution_count": 18,
   "metadata": {},
   "outputs": [
    {
     "data": {
      "text/plain": [
       "7"
      ]
     },
     "execution_count": 18,
     "metadata": {},
     "output_type": "execute_result"
    }
   ],
   "source": [
    "(lambda x,y: x+y)(3,4)"
   ]
  },
  {
   "cell_type": "code",
   "execution_count": 19,
   "metadata": {},
   "outputs": [
    {
     "name": "stdout",
     "output_type": "stream",
     "text": [
      "0\n",
      "1\n",
      "4\n",
      "9\n",
      "16\n"
     ]
    }
   ],
   "source": [
    "for i in map(lambda x: x*x, range(5)): print (i)"
   ]
  },
  {
   "cell_type": "code",
   "execution_count": 20,
   "metadata": {},
   "outputs": [
    {
     "name": "stdout",
     "output_type": "stream",
     "text": [
      "285\n"
     ]
    }
   ],
   "source": [
    "# what does this function do?\n",
    "from functools import reduce\n",
    "s1 = reduce(lambda x, y: x+y, map(lambda x: x**2, range(1,10)))\n",
    "print(s1)\n"
   ]
  },
  {
   "cell_type": "markdown",
   "metadata": {},
   "source": [
    "## Recursive functions "
   ]
  },
  {
   "cell_type": "code",
   "execution_count": 21,
   "metadata": {},
   "outputs": [
    {
     "name": "stdout",
     "output_type": "stream",
     "text": [
      "[1, 1, 2, 3, 5, 8, 13, 21, 34, 55]\n"
     ]
    }
   ],
   "source": [
    "def fib1(n):\n",
    "    \"\"\"Fib with recursion.\"\"\"\n",
    "\n",
    "    # base case\n",
    "    if n==0 or n==1:\n",
    "        return 1\n",
    "    # recursive case\n",
    "    else:\n",
    "        return fib1(n-1) + fib1(n-2)\n",
    "\n",
    "    \n",
    "print ([fib1(i) for i in range(10)])"
   ]
  },
  {
   "cell_type": "code",
   "execution_count": 22,
   "metadata": {},
   "outputs": [
    {
     "name": "stdout",
     "output_type": "stream",
     "text": [
      "[1, 1, 2, 3, 5, 8, 13, 21, 34, 55]\n"
     ]
    }
   ],
   "source": [
    "# In Python, a more efficient version that does not use recursion is\n",
    "\n",
    "def fib2(n):\n",
    "    \"\"\"Fib without recursion.\"\"\"\n",
    "    a, b = 0, 1\n",
    "    for i in range(1, n+1):\n",
    "        a, b = b, a+b\n",
    "    return b\n",
    "\n",
    "print ([fib2(i) for i in range(10)])"
   ]
  },
  {
   "cell_type": "code",
   "execution_count": 23,
   "metadata": {},
   "outputs": [
    {
     "name": "stdout",
     "output_type": "stream",
     "text": [
      "23.3 ms ± 5.39 ms per loop (mean ± std. dev. of 7 runs, 10 loops each)\n",
      "3.71 µs ± 666 ns per loop (mean ± std. dev. of 7 runs, 100,000 loops each)\n"
     ]
    }
   ],
   "source": [
    "# check indeed the timing:\n",
    "\n",
    "%timeit fib1(20)\n",
    "%timeit fib2(20)\n"
   ]
  },
  {
   "cell_type": "markdown",
   "metadata": {},
   "source": [
    "## Iterators\n",
    "\n",
    "Iterators represent streams of values. Because only one value is consumed at a time, they use very little memory. Use of iterators is very helpful for working with data sets too large to fit into RAM."
   ]
  },
  {
   "cell_type": "code",
   "execution_count": 24,
   "metadata": {},
   "outputs": [
    {
     "name": "stdout",
     "output_type": "stream",
     "text": [
      "1\n",
      "2\n",
      "3\n"
     ]
    },
    {
     "data": {
      "text/html": [
       "<pre style=\"white-space:pre;overflow-x:auto;line-height:normal;font-family:Menlo,'DejaVu Sans Mono',consolas,'Courier New',monospace\"><span style=\"color: #800000; text-decoration-color: #800000\">╭─────────────────────────────── </span><span style=\"color: #800000; text-decoration-color: #800000; font-weight: bold\">Traceback </span><span style=\"color: #bf7f7f; text-decoration-color: #bf7f7f; font-weight: bold\">(most recent call last)</span><span style=\"color: #800000; text-decoration-color: #800000\"> ────────────────────────────────╮</span>\n",
       "<span style=\"color: #800000; text-decoration-color: #800000\">│</span> <span style=\"color: #bfbf7f; text-decoration-color: #bfbf7f\">/tmp/ipykernel_3637/</span><span style=\"color: #808000; text-decoration-color: #808000; font-weight: bold\">4021757505.py</span>:<span style=\"color: #0000ff; text-decoration-color: #0000ff\">9</span> in <span style=\"color: #00ff00; text-decoration-color: #00ff00\">&lt;module&gt;</span>                                                  <span style=\"color: #800000; text-decoration-color: #800000\">│</span>\n",
       "<span style=\"color: #800000; text-decoration-color: #800000\">│</span>                                                                                                  <span style=\"color: #800000; text-decoration-color: #800000\">│</span>\n",
       "<span style=\"color: #800000; text-decoration-color: #800000\">│</span> <span style=\"color: #800000; text-decoration-color: #800000; font-style: italic\">[Errno 2] No such file or directory: '/tmp/ipykernel_3637/4021757505.py'</span>                         <span style=\"color: #800000; text-decoration-color: #800000\">│</span>\n",
       "<span style=\"color: #800000; text-decoration-color: #800000\">╰──────────────────────────────────────────────────────────────────────────────────────────────────╯</span>\n",
       "<span style=\"color: #ff0000; text-decoration-color: #ff0000; font-weight: bold\">StopIteration</span>\n",
       "</pre>\n"
      ],
      "text/plain": [
       "\u001b[31m╭─\u001b[0m\u001b[31m──────────────────────────────\u001b[0m\u001b[31m \u001b[0m\u001b[1;31mTraceback \u001b[0m\u001b[1;2;31m(most recent call last)\u001b[0m\u001b[31m \u001b[0m\u001b[31m───────────────────────────────\u001b[0m\u001b[31m─╮\u001b[0m\n",
       "\u001b[31m│\u001b[0m \u001b[2;33m/tmp/ipykernel_3637/\u001b[0m\u001b[1;33m4021757505.py\u001b[0m:\u001b[94m9\u001b[0m in \u001b[92m<module>\u001b[0m                                                  \u001b[31m│\u001b[0m\n",
       "\u001b[31m│\u001b[0m                                                                                                  \u001b[31m│\u001b[0m\n",
       "\u001b[31m│\u001b[0m \u001b[3;31m[Errno 2] No such file or directory: '/tmp/ipykernel_3637/4021757505.py'\u001b[0m                         \u001b[31m│\u001b[0m\n",
       "\u001b[31m╰──────────────────────────────────────────────────────────────────────────────────────────────────╯\u001b[0m\n",
       "\u001b[1;91mStopIteration\u001b[0m\n"
      ]
     },
     "metadata": {},
     "output_type": "display_data"
    }
   ],
   "source": [
    "# Iterators can be created from sequences with the built-in function iter()\n",
    "\n",
    "xs = [1,2,3]\n",
    "x_iter = iter(xs)\n",
    "\n",
    "print (next(x_iter))\n",
    "print (next(x_iter))\n",
    "print (next(x_iter))\n",
    "print (next(x_iter))"
   ]
  },
  {
   "cell_type": "code",
   "execution_count": 25,
   "metadata": {},
   "outputs": [
    {
     "name": "stdout",
     "output_type": "stream",
     "text": [
      "1\n",
      "2\n",
      "3\n"
     ]
    }
   ],
   "source": [
    "# Most commonly, iterators are used (automatically) within a for loop\n",
    "# which terminates when it encouters a StopIteration exception\n",
    "\n",
    "x_iter = iter(xs)\n",
    "for x in x_iter:\n",
    "    print (x)"
   ]
  },
  {
   "cell_type": "markdown",
   "metadata": {},
   "source": [
    "## More on comprehensions"
   ]
  },
  {
   "cell_type": "code",
   "execution_count": 26,
   "metadata": {},
   "outputs": [
    {
     "name": "stdout",
     "output_type": "stream",
     "text": [
      "<generator object <genexpr> at 0x7f35216a7ed0>\n",
      "[0, 1, 4, 9, 16, 25, 36, 49, 64, 81]\n",
      "{0, 1, 2, 3, 4, 5, 6, 7, 8, 9}\n",
      "{0: 'x', 1: 'x', 2: 'x', 3: 'x', 4: 'x', 5: 'x', 6: 'x', 7: 'x', 8: 'x', 9: 'x'}\n"
     ]
    }
   ],
   "source": [
    "# A generator expression\n",
    "\n",
    "print ((x for x in range(10)))\n",
    "\n",
    "# A list comprehesnnion\n",
    "\n",
    "print ([x**2 for x in range(10)])\n",
    "\n",
    "# A set comprehension\n",
    "\n",
    "print ({x for x in range(10)})\n",
    "\n",
    "# A dictionary comprehension\n",
    "\n",
    "print ({x: \"x\" for x in range(10)})"
   ]
  },
  {
   "cell_type": "markdown",
   "metadata": {},
   "source": [
    "## Useful Modules\n",
    "\n",
    "You may want to have a look at the content of the following modules for further usage of (HO) functions:\n",
    "  - [operator](https://docs.python.org/3/library/operator.html)\n",
    "  - [functools](https://docs.python.org/3/library/functools.html)\n",
    "  - [itertools](https://docs.python.org/3/library/itertools.html)\n",
    "  - [toolz](https://pypi.org/project/toolz/)\n",
    "  - [funcy](https://pypi.org/project/funcy/)"
   ]
  },
  {
   "cell_type": "markdown",
   "metadata": {},
   "source": [
    "## Decorators\n",
    "\n",
    "Decorators are a type of HOF that take a function and return a wrapped function that provides additional useful properties.\n",
    "\n",
    "Examples:\n",
    "\n",
    "  - logging\n",
    "  - profiling\n",
    "  - Just-In-Time (JIT) compilation"
   ]
  },
  {
   "cell_type": "code",
   "execution_count": 27,
   "metadata": {},
   "outputs": [],
   "source": [
    "def my_decorator(func):\n",
    "    def wrapper():\n",
    "        print(\"Something is happening before the function is called.\")\n",
    "        func()\n",
    "        print(\"Something is happening after the function is called.\")\n",
    "    return wrapper\n",
    "\n",
    "def say_whee():\n",
    "    print(\"Whee!\")\n",
    "\n",
    "say_whee = my_decorator(say_whee)"
   ]
  },
  {
   "cell_type": "code",
   "execution_count": 28,
   "metadata": {},
   "outputs": [
    {
     "name": "stdout",
     "output_type": "stream",
     "text": [
      "Something is happening before the function is called.\n",
      "Whee!\n",
      "Something is happening after the function is called.\n"
     ]
    }
   ],
   "source": [
    "say_whee()"
   ]
  },
  {
   "cell_type": "markdown",
   "metadata": {},
   "source": [
    "Python allows you to use decorators in a simpler way with the @ symbol, sometimes called the “pie” syntax"
   ]
  },
  {
   "cell_type": "code",
   "execution_count": 29,
   "metadata": {},
   "outputs": [],
   "source": [
    "def my_decorator(func):\n",
    "    def wrapper():\n",
    "        print(\"Something is happening before the function is called.\")\n",
    "        func()\n",
    "        print(\"Something is happening after the function is called.\")\n",
    "    return wrapper\n",
    "\n",
    "@my_decorator\n",
    "def say_whee():\n",
    "    print(\"Whee!\")"
   ]
  },
  {
   "cell_type": "code",
   "execution_count": 30,
   "metadata": {},
   "outputs": [
    {
     "name": "stdout",
     "output_type": "stream",
     "text": [
      "Something is happening before the function is called.\n",
      "Whee!\n",
      "Something is happening after the function is called.\n"
     ]
    }
   ],
   "source": [
    "say_whee()"
   ]
  },
  {
   "cell_type": "markdown",
   "metadata": {},
   "source": [
    "# Classes and Objects\n",
    "\n",
    "Old school object-oriented programming is possible and often used in python. Classes are defined similarly to standard object-oriented languages, with similar functionalities.\n",
    "\n",
    "The main python doc [page](https://docs.python.org/3/tutorial/classes.html) is worth reading through "
   ]
  },
  {
   "cell_type": "code",
   "execution_count": 31,
   "metadata": {},
   "outputs": [
    {
     "name": "stdout",
     "output_type": "stream",
     "text": [
      "buddy 12\n",
      "3\n"
     ]
    }
   ],
   "source": [
    "class Pet:\n",
    "    # the \"constructor\"\n",
    "    def __init__(self, name, age):  #inizialize the elements of the class\n",
    "        self.name=name\n",
    "        self.age=age\n",
    "    # class functions take the \"self\" parameter !!!\n",
    "    def set_name(self,name):\n",
    "        self.name=name\n",
    "    def convert_age(self,factor):\n",
    "        self.age*=factor\n",
    "\n",
    "buddy=Pet(\"buddy\",12)\n",
    "print (buddy.name, buddy.age)\n",
    "buddy.age=3\n",
    "print (buddy.age)\n",
    "\n"
   ]
  },
  {
   "cell_type": "code",
   "execution_count": 32,
   "metadata": {},
   "outputs": [
    {
     "name": "stdout",
     "output_type": "stream",
     "text": [
      "tobia\n",
      "70\n"
     ]
    }
   ],
   "source": [
    "# ineritance is straightforward\n",
    "class Dog(Pet):\n",
    "    # the following variables is \"global\", i.e. holds for all \"Dog\" objects\n",
    "    species = \"mammal\"\n",
    "    # functions can be redefined as usual\n",
    "    def convert_age(self):\n",
    "        self.age*=7\n",
    "    def set_species(self, species):\n",
    "        self.species = species\n",
    "        \n",
    "puppy=Dog(\"tobia\",10)\n",
    "print(puppy.name)\n",
    "puppy.convert_age()\n",
    "print(puppy.age)\n",
    "\n"
   ]
  },
  {
   "cell_type": "code",
   "execution_count": null,
   "metadata": {},
   "outputs": [],
   "source": []
  }
 ],
 "metadata": {
  "kernelspec": {
   "display_name": "Python 3 (ipykernel)",
   "language": "python",
   "name": "python3"
  },
  "language_info": {
   "codemirror_mode": {
    "name": "ipython",
    "version": 3
   },
   "file_extension": ".py",
   "mimetype": "text/x-python",
   "name": "python",
   "nbconvert_exporter": "python",
   "pygments_lexer": "ipython3",
   "version": "3.10.12"
  }
 },
 "nbformat": 4,
 "nbformat_minor": 2
}
