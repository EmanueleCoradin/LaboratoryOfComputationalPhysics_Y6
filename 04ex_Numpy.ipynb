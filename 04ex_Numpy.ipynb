{
 "cells": [
  {
   "cell_type": "markdown",
   "metadata": {},
   "source": [
    "### Numpy basics"
   ]
  },
  {
   "cell_type": "code",
   "execution_count": 1,
   "metadata": {},
   "outputs": [],
   "source": [
    "import numpy as np\n",
    "import matplotlib.pyplot as plt\n",
    "np.set_printoptions(precision=2)"
   ]
  },
  {
   "cell_type": "markdown",
   "metadata": {},
   "source": [
    "1\\. Find the row, column and overall mean for the following matrix:\n",
    "\n",
    "```python\n",
    "m = np.arange(12).reshape((3,4))\n",
    "```"
   ]
  },
  {
   "cell_type": "code",
   "execution_count": 2,
   "metadata": {},
   "outputs": [
    {
     "name": "stdout",
     "output_type": "stream",
     "text": [
      "[[ 0  1  2  3]\n",
      " [ 4  5  6  7]\n",
      " [ 8  9 10 11]]\n",
      "[1.5, 5.5, 9.5]\n",
      "[4.0, 5.0, 6.0, 7.0]\n",
      "5.5\n"
     ]
    }
   ],
   "source": [
    "m = np.arange(12).reshape(3,4)\n",
    "print(m)\n",
    "\n",
    "row_mean = [row.mean() for row in m]\n",
    "col_mean = [col.mean() for col in m.T]\n",
    "mean = m.mean()\n",
    "\n",
    "print(row_mean)\n",
    "print(col_mean)\n",
    "print(mean)"
   ]
  },
  {
   "cell_type": "markdown",
   "metadata": {},
   "source": [
    "2\\. Find the outer product of the following two vecotrs\n",
    "\n",
    "```python\n",
    "u = np.array([1,3,5,7])\n",
    "v = np.array([2,4,6,8])\n",
    "```\n",
    "\n",
    "Do this in the following ways:\n",
    "\n",
    "   * Using the function outer in numpy\n",
    "   * Using a nested for loop or list comprehension\n",
    "   * Using numpy broadcasting operatoins\n"
   ]
  },
  {
   "cell_type": "code",
   "execution_count": 3,
   "metadata": {},
   "outputs": [
    {
     "name": "stdout",
     "output_type": "stream",
     "text": [
      "Outer produt with numpy\n"
     ]
    },
    {
     "name": "stdout",
     "output_type": "stream",
     "text": [
      "The slowest run took 4.38 times longer than the fastest. This could mean that an intermediate result is being cached.\n",
      "62 µs ± 24.9 µs per loop (mean ± std. dev. of 7 runs, 10,000 loops each)\n",
      "[[ 2  4  6  8]\n",
      " [ 6 12 18 24]\n",
      " [10 20 30 40]\n",
      " [14 28 42 56]]\n",
      "\n",
      "Using list comprehension\n",
      "141 µs ± 21.9 µs per loop (mean ± std. dev. of 7 runs, 10,000 loops each)\n",
      "[[ 2  4  6  8]\n",
      " [ 6 12 18 24]\n",
      " [10 20 30 40]\n",
      " [14 28 42 56]]\n",
      "\n",
      "Using broadcasting\n",
      "336 µs ± 55.4 µs per loop (mean ± std. dev. of 7 runs, 10,000 loops each)\n",
      "[[ 2  6 10 14]\n",
      " [ 4 12 20 28]\n",
      " [ 6 18 30 42]\n",
      " [ 8 24 40 56]]\n"
     ]
    }
   ],
   "source": [
    "u = np.array([1, 3, 5, 7])\n",
    "v = np.array([2, 4, 6, 8])\n",
    "\n",
    "print(\"Outer produt with numpy\")\n",
    "%timeit np.outer(u, v)\n",
    "np_list = np.outer(u, v)\n",
    "print(np_list)\n",
    "print()\n",
    "\n",
    "print(\"Using list comprehension\")\n",
    "%timeit np.array([[r*c for c in v]for r in u ])\n",
    "outer_list = np.array([[r*c for c in v]for r in u ])\n",
    "print(outer_list)\n",
    "print()\n",
    "\n",
    "print(\"Using broadcasting\")\n",
    "%timeit np.resize(u, (4, 4)) * np.resize(v, (4,4)).T\n",
    "broad_list = np.resize(u, (4, 4)) * np.resize(v, (4,4)).T\n",
    "print(broad_list)\n"
   ]
  },
  {
   "cell_type": "markdown",
   "metadata": {},
   "source": [
    "3\\. Create a 10 by 6 matrix of random uniform numbers. Set all rows with any entry less than 0.1 to be zero\n",
    "\n",
    "Hint: Use the following numpy functions - np.random.random, np.any as well as Boolean indexing and the axis argument."
   ]
  },
  {
   "cell_type": "code",
   "execution_count": 4,
   "metadata": {},
   "outputs": [
    {
     "name": "stdout",
     "output_type": "stream",
     "text": [
      "[[0.74 0.9  0.76 0.51 0.09 0.6 ]\n",
      " [0.47 0.   0.29 0.83 0.38 0.39]\n",
      " [0.75 0.13 0.95 0.94 0.32 0.01]\n",
      " [0.56 0.73 0.84 0.42 0.24 0.99]\n",
      " [0.97 0.89 0.8  0.83 0.97 0.33]\n",
      " [0.57 0.39 0.22 0.35 0.4  0.63]\n",
      " [0.37 0.17 0.36 0.97 0.82 0.87]\n",
      " [0.11 0.85 1.   0.28 0.89 0.29]\n",
      " [0.79 0.47 0.39 0.2  0.12 0.67]\n",
      " [0.89 0.08 0.23 0.92 0.41 1.  ]]\n",
      "\n",
      "[[0.74 0.9  0.76 0.51 0.   0.6 ]\n",
      " [0.47 0.   0.29 0.83 0.38 0.39]\n",
      " [0.75 0.13 0.95 0.94 0.32 0.  ]\n",
      " [0.56 0.73 0.84 0.42 0.24 0.99]\n",
      " [0.97 0.89 0.8  0.83 0.97 0.33]\n",
      " [0.57 0.39 0.22 0.35 0.4  0.63]\n",
      " [0.37 0.17 0.36 0.97 0.82 0.87]\n",
      " [0.11 0.85 1.   0.28 0.89 0.29]\n",
      " [0.79 0.47 0.39 0.2  0.12 0.67]\n",
      " [0.89 0.   0.23 0.92 0.41 1.  ]]\n"
     ]
    }
   ],
   "source": [
    "randM = np.random.random((10, 6))\n",
    "print(randM)\n",
    "\n",
    "mask = (randM<0.1)\n",
    "randM[mask] = 0\n",
    "\n",
    "print()\n",
    "print(randM)"
   ]
  },
  {
   "cell_type": "markdown",
   "metadata": {},
   "source": [
    "4\\. Use np.linspace to create an array of 100 numbers between 0 and 2π (includsive).\n",
    "\n",
    "  * Extract every 10th element using slice notation\n",
    "  * Reverse the array using slice notation\n",
    "  * Extract elements where the absolute difference between the sine and cosine functions evaluated at that element is less than 0.1\n",
    "  * Make a plot showing the sin and cos functions and indicate where they are close"
   ]
  },
  {
   "cell_type": "code",
   "execution_count": 5,
   "metadata": {},
   "outputs": [
    {
     "name": "stdout",
     "output_type": "stream",
     "text": [
      "x  [0.   0.06 0.13 0.19 0.25 0.32 0.38 0.44 0.51 0.57 0.63 0.7  0.76 0.83\n",
      " 0.89 0.95 1.02 1.08 1.14 1.21 1.27 1.33 1.4  1.46 1.52 1.59 1.65 1.71\n",
      " 1.78 1.84 1.9  1.97 2.03 2.09 2.16 2.22 2.28 2.35 2.41 2.48 2.54 2.6\n",
      " 2.67 2.73 2.79 2.86 2.92 2.98 3.05 3.11 3.17 3.24 3.3  3.36 3.43 3.49\n",
      " 3.55 3.62 3.68 3.74 3.81 3.87 3.93 4.   4.06 4.13 4.19 4.25 4.32 4.38\n",
      " 4.44 4.51 4.57 4.63 4.7  4.76 4.82 4.89 4.95 5.01 5.08 5.14 5.2  5.27\n",
      " 5.33 5.39 5.46 5.52 5.59 5.65 5.71 5.78 5.84 5.9  5.97 6.03 6.09 6.16\n",
      " 6.22 6.28]\n",
      "\n",
      "slice  [0.   0.63 1.27 1.9  2.54 3.17 3.81 4.44 5.08 5.71]\n",
      "\n",
      "riverse  [6.28 6.22 6.16 6.09 6.03 5.97 5.9  5.84 5.78 5.71 5.65 5.59 5.52 5.46\n",
      " 5.39 5.33 5.27 5.2  5.14 5.08 5.01 4.95 4.89 4.82 4.76 4.7  4.63 4.57\n",
      " 4.51 4.44 4.38 4.32 4.25 4.19 4.13 4.06 4.   3.93 3.87 3.81 3.74 3.68\n",
      " 3.62 3.55 3.49 3.43 3.36 3.3  3.24 3.17 3.11 3.05 2.98 2.92 2.86 2.79\n",
      " 2.73 2.67 2.6  2.54 2.48 2.41 2.35 2.28 2.22 2.16 2.09 2.03 1.97 1.9\n",
      " 1.84 1.78 1.71 1.65 1.59 1.52 1.46 1.4  1.33 1.27 1.21 1.14 1.08 1.02\n",
      " 0.95 0.89 0.83 0.76 0.7  0.63 0.57 0.51 0.44 0.38 0.32 0.25 0.19 0.13\n",
      " 0.06 0.  ]\n",
      "\n",
      "trigonometric  [0.76 0.83 3.87 3.93]\n"
     ]
    }
   ],
   "source": [
    "x = np.linspace(0, 2*np.pi, num=100, endpoint=True)\n",
    "print(\"x \",x)\n",
    "print()\n",
    "print(\"slice \", x[::10])\n",
    "print()\n",
    "print(\"riverse \", x[::-1])\n",
    "print()\n",
    "print(\"trigonometric \", x[(np.abs(np.sin(x) - np.cos(x)) <0.1)])\n",
    "close_points = x[(np.abs(np.sin(x) - np.cos(x)) <0.1)]"
   ]
  },
  {
   "cell_type": "code",
   "execution_count": 9,
   "metadata": {},
   "outputs": [
    {
     "data": {
      "image/png": "[encoded data removed]",
      "text/plain": [
       "<Figure size 640x480 with 1 Axes>"
      ]
     },
     "metadata": {},
     "output_type": "display_data"
    }
   ],
   "source": [
    "fig, axs = plt.subplots()\n",
    "\n",
    "axs.plot(x, np.sin(x))\n",
    "axs.plot(x, np.cos(x))\n",
    "circles = [plt.Circle((X, np.sin(X)), 0.1, color='r', fill=False) for X in close_points[::2]]\n",
    "for c in circles:\n",
    "    axs.add_patch(c)\n",
    "plt.show()"
   ]
  },
  {
   "cell_type": "markdown",
   "metadata": {},
   "source": [
    "5\\. Create a matrix that shows the 10 by 10 multiplication table.\n",
    "\n",
    " * Find the trace of the matrix\n",
    " * Extract the anto-diagonal (this should be ```array([10, 18, 24, 28, 30, 30, 28, 24, 18, 10])```)\n",
    " * Extract the diagnoal offset by 1 upwards (this should be ```array([ 2,  6, 12, 20, 30, 42, 56, 72, 90])```)"
   ]
  },
  {
   "cell_type": "code",
   "execution_count": 22,
   "metadata": {},
   "outputs": [
    {
     "name": "stdout",
     "output_type": "stream",
     "text": [
      "[[  1   2   3   4   5   6   7   8   9  10]\n",
      " [  2   4   6   8  10  12  14  16  18  20]\n",
      " [  3   6   9  12  15  18  21  24  27  30]\n",
      " [  4   8  12  16  20  24  28  32  36  40]\n",
      " [  5  10  15  20  25  30  35  40  45  50]\n",
      " [  6  12  18  24  30  36  42  48  54  60]\n",
      " [  7  14  21  28  35  42  49  56  63  70]\n",
      " [  8  16  24  32  40  48  56  64  72  80]\n",
      " [  9  18  27  36  45  54  63  72  81  90]\n",
      " [ 10  20  30  40  50  60  70  80  90 100]]\n",
      "385\n",
      "[10 18 24 28 30 30 28 24 18 10]\n",
      "[ 2  6 12 20 30 42 56 72 90]\n"
     ]
    }
   ],
   "source": [
    "M = np.array([[i*j for i in range(1, 11)] for j in range(1, 11)])\n",
    "\n",
    "tr = np.sum([M[i,i] for i in range(10)])\n",
    "anti_diag = np.array([M[i,-i-1] for i in range(10)])\n",
    "sup_diag  = np.array([M[i, i+1] for i in range(9)])\n",
    "\n",
    "print(M)\n",
    "print(tr)\n",
    "print(anti_diag)\n",
    "print(sup_diag)"
   ]
  },
  {
   "cell_type": "markdown",
   "metadata": {},
   "source": [
    "6\\. Use broadcasting to create a grid of distances\n",
    "\n",
    "Route 66 crosses the following cities in the US: Chicago, Springfield, Saint-Louis, Tulsa, Oklahoma City, Amarillo, Santa Fe, Albuquerque, Flagstaff, Los Angeles\n",
    "The corresponding positions in miles are: 0, 198, 303, 736, 871, 1175, 1475, 1544, 1913, 2448\n",
    "\n",
    "  * Construct a 2D grid of distances among each city along Route 66\n",
    "  * Convert that in km (those savages...)"
   ]
  },
  {
   "cell_type": "code",
   "execution_count": 28,
   "metadata": {},
   "outputs": [
    {
     "name": "stdout",
     "output_type": "stream",
     "text": [
      "10\n",
      "[[   0.  198.  303.  736.  871. 1175. 1475. 1544. 1913. 2448.]\n",
      " [ 198.    0.  105.  538.  673.  977. 1277. 1346. 1715. 2250.]\n",
      " [ 303.  105.    0.  433.  568.  872. 1172. 1241. 1610. 2145.]\n",
      " [ 736.  538.  433.    0.  135.  439.  739.  808. 1177. 1712.]\n",
      " [ 871.  673.  568.  135.    0.  304.  604.  673. 1042. 1577.]\n",
      " [1175.  977.  872.  439.  304.    0.  300.  369.  738. 1273.]\n",
      " [1475. 1277. 1172.  739.  604.  300.    0.   69.  438.  973.]\n",
      " [1544. 1346. 1241.  808.  673.  369.   69.    0.  369.  904.]\n",
      " [1913. 1715. 1610. 1177. 1042.  738.  438.  369.    0.  535.]\n",
      " [2448. 2250. 2145. 1712. 1577. 1273.  973.  904.  535.    0.]]\n"
     ]
    }
   ],
   "source": [
    "cities =['Chicago', 'Springfield', 'Saint-Louis', 'Tulsa', 'Oklahoma City', 'Amarillo', 'Santa Fe', 'Albuquerque', 'Flagstaff', 'Los Angeles']\n",
    "print(len(cities))\n",
    "\n",
    "distances       = [0, 198, 303, 736, 871, 1175, 1475, 1544, 1913, 2448]\n",
    "bidim_distances = np.array([[np.abs(i-j) for i in distances] for j in distances], dtype='float64')\n",
    "\n",
    "print(bidim_distances)\n",
    "bidim_distances*=1.609 #to convert in km"
   ]
  },
  {
   "cell_type": "markdown",
   "metadata": {},
   "source": [
    "7\\. Prime numbers sieve: compute the prime numbers in the 0-N (N=99 to start with) range with a sieve (mask).\n",
    "  * Constract a shape (100,) boolean array, the mask\n",
    "  * Identify the multiples of each number starting from 2 and set accordingly the corresponding mask element\n",
    "  * Apply the mask to obtain an array of ordered prime numbers\n",
    "  * Check the performances (timeit); how does it scale with N?\n",
    "  * Implement the optimization suggested in the [sieve of Eratosthenes](https://en.wikipedia.org/wiki/Sieve_of_Eratosthenes)"
   ]
  },
  {
   "cell_type": "code",
   "execution_count": 38,
   "metadata": {},
   "outputs": [
    {
     "ename": "ValueError",
     "evalue": "The truth value of an array with more than one element is ambiguous. Use a.any() or a.all()",
     "output_type": "error",
     "traceback": [
      "\u001b[0;31m---------------------------------------------------------------------------\u001b[0m",
      "\u001b[0;31mValueError\u001b[0m                                Traceback (most recent call last)",
      "Cell \u001b[0;32mIn[38], line 12\u001b[0m\n\u001b[1;32m      9\u001b[0m         prime \u001b[39m=\u001b[39m prime[(prime\u001b[39m%\u001b[39mi \u001b[39m!=\u001b[39m \u001b[39m0\u001b[39m \u001b[39mand\u001b[39;00m prime\u001b[39m!=\u001b[39mi)]\n\u001b[1;32m     10\u001b[0m     \u001b[39mreturn\u001b[39;00m prime\n\u001b[0;32m---> 12\u001b[0m \u001b[39mprint\u001b[39m(PrimeNumbersEratosthenesSieve(\u001b[39m100\u001b[39;49m))\n",
      "Cell \u001b[0;32mIn[38], line 9\u001b[0m, in \u001b[0;36mPrimeNumbersEratosthenesSieve\u001b[0;34m(N)\u001b[0m\n\u001b[1;32m      7\u001b[0m prime \u001b[39m=\u001b[39m np\u001b[39m.\u001b[39marray([i \u001b[39mfor\u001b[39;00m i \u001b[39min\u001b[39;00m \u001b[39mrange\u001b[39m(\u001b[39m1\u001b[39m, N)])\n\u001b[1;32m      8\u001b[0m \u001b[39mfor\u001b[39;00m i \u001b[39min\u001b[39;00m \u001b[39mrange\u001b[39m(\u001b[39m2\u001b[39m, \u001b[39mint\u001b[39m(N\u001b[39m/\u001b[39m\u001b[39m2\u001b[39m)):\n\u001b[0;32m----> 9\u001b[0m     prime \u001b[39m=\u001b[39m prime[(prime\u001b[39m%\u001b[39mi \u001b[39m!=\u001b[39m \u001b[39m0\u001b[39m \u001b[39mand\u001b[39;00m prime\u001b[39m!=\u001b[39mi)]\n\u001b[1;32m     10\u001b[0m \u001b[39mreturn\u001b[39;00m prime\n",
      "\u001b[0;31mValueError\u001b[0m: The truth value of an array with more than one element is ambiguous. Use a.any() or a.all()"
     ]
    }
   ],
   "source": [
    "def PrimeNumbersSieve(N):\n",
    "    mask = np.ones((100,), dtype='bool')\n",
    "    for i in range(2, int(N/2)):\n",
    "        break\n",
    "    #to be continued\n",
    "def PrimeNumbersEratosthenesSieve(N):\n",
    "    prime = np.array([i for i in range(1, N)])\n",
    "    for i in range(2, int(N/2)):\n",
    "        prime = prime[(prime%i != 0 and prime!=i)]\n",
    "    return prime\n",
    "\n",
    "print(PrimeNumbersEratosthenesSieve(100))"
   ]
  },
  {
   "cell_type": "markdown",
   "metadata": {},
   "source": [
    "**N.B. the following exercises are meant to be solved only if you are familiar with the numpy random library. If not you can skip them (postponed for one of the next exercise sessions)**\n"
   ]
  },
  {
   "cell_type": "markdown",
   "metadata": {},
   "source": [
    "8\\. Diffusion using random walk\n",
    "\n",
    "Consider a simple random walk process: at each step in time, a walker jumps right or left (+1 or -1) with equal probability. The goal is to find the typical distance from the origin of a random walker after a given amount of time. \n",
    "To do that, let's simulate many walkers and create a 2D array with each walker as a raw and the actual time evolution as columns\n",
    "\n",
    "  * Take 1000 walkers and let them walk for 200 steps\n",
    "  * Use randint to create a 2D array of size walkers x steps with values -1 or 1\n",
    "  * Build the actual walking distances for each walker (i.e. another 2D array \"summing on each raw\")\n",
    "  * Take the square of that 2D array (elementwise)\n",
    "  * Compute the mean of the squared distances at each step (i.e. the mean along the columns)\n",
    "  * Plot the average distances (sqrt(distance\\*\\*2)) as a function of time (step)\n",
    "  \n",
    "Did you get what you expected?"
   ]
  },
  {
   "cell_type": "markdown",
   "metadata": {},
   "source": [
    "9\\. Analyze a data file \n",
    "  * Download the population of hares, lynxes and carrots at the beginning of the last century.\n",
    "    ```python\n",
    "    ! wget https://www.dropbox.com/s/3vigxoqayo389uc/populations.txt\n",
    "    ```\n",
    "\n",
    "  * Check the content by looking within the file\n",
    "  * Load the data (use an appropriate numpy method) into a 2D array\n",
    "  * Create arrays out of the columns, the arrays being (in order): *year*, *hares*, *lynxes*, *carrots* \n",
    "  * Plot the 3 populations over the years\n",
    "  * Compute the main statistical properties of the dataset (mean, std, correlations, etc.)\n",
    "  * Which species has the highest population each year?\n",
    "\n",
    "Do you feel there is some evident correlation here? [Studies](https://www.enr.gov.nt.ca/en/services/lynx/lynx-snowshoe-hare-cycle) tend to believe so."
   ]
  }
 ],
 "metadata": {
  "kernelspec": {
   "display_name": "Python 3 (ipykernel)",
   "language": "python",
   "name": "python3"
  },
  "language_info": {
   "codemirror_mode": {
    "name": "ipython",
    "version": 3
   },
   "file_extension": ".py",
   "mimetype": "text/x-python",
   "name": "python",
   "nbconvert_exporter": "python",
   "pygments_lexer": "ipython3",
   "version": "3.10.12"
  }
 },
 "nbformat": 4,
 "nbformat_minor": 2
}
