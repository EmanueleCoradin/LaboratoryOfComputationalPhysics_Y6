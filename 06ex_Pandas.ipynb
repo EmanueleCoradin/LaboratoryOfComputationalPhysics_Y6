{
 "cells": [
  {
   "cell_type": "markdown",
   "metadata": {},
   "source": [
    "## Pandas analysis\n",
    "\n",
    "This exercise consists in analyzing a dataset containg timing information from a series of Time-to-Digital-Converters (TDC) implemented in a couple of FPGAs. Each measurement (i.e. each row of the input file) consists of a flag that specifies the type of message ('HEAD', which in this case is always 1), two addresses of the TDC providing the signal ('FPGA' and 'TDC_CHANNEL'), and the timing information ('ORBIT_CNT', 'BX_COUNTER', and 'TDC_MEAS'). Each TDC count corresponds to 25/30 ns, whereas a unit of BX_COUNTER corresponds to 25 ns, and the ORBIT_CNT is increased every 'x' BX_COUNTER. This allows to store the time in a similar way to hours, minutes and seconds."
   ]
  },
  {
   "cell_type": "code",
   "execution_count": 2,
   "metadata": {},
   "outputs": [],
   "source": [
    "import numpy as np\n",
    "import pandas as pd\n",
    "import matplotlib.pyplot as plt"
   ]
  },
  {
   "cell_type": "code",
   "execution_count": 3,
   "metadata": {},
   "outputs": [],
   "source": [
    "# If you didn't download it yet, please get the relevant file now!\n",
    "#!wget https://www.dropbox.com/s/xvjzaxzz3ysphme/data_000637.txt -P ~/data/"
   ]
  },
  {
   "cell_type": "markdown",
   "metadata": {},
   "source": [
    "1\\. Create a Pandas DataFrame reading N rows of the 'data_000637.txt' dataset. Choose N to be smaller than or equal to the maximum number of rows and larger that 10k."
   ]
  },
  {
   "cell_type": "code",
   "execution_count": 4,
   "metadata": {},
   "outputs": [
    {
     "name": "stdout",
     "output_type": "stream",
     "text": [
      "       HEAD  FPGA  TDC_CHANNEL   ORBIT_CNT  BX_COUNTER  TDC_MEAS\n",
      "0         1     0          123  3869200167        2374        26\n",
      "1         1     0          124  3869200167        2374        27\n",
      "2         1     0           63  3869200167        2553        28\n",
      "3         1     0           64  3869200167        2558        19\n",
      "4         1     0           64  3869200167        2760        25\n",
      "...     ...   ...          ...         ...         ...       ...\n",
      "19995     1     0           27  3869200366        2513        29\n",
      "19996     1     0           63  3869200366        2517         6\n",
      "19997     1     0           32  3869200366        2519         5\n",
      "19998     1     0           17  3869200366        2522        21\n",
      "19999     1     0           64  3869200366        2522         0\n",
      "\n",
      "[20000 rows x 6 columns]\n"
     ]
    }
   ],
   "source": [
    "N = 20000\n",
    "df = pd.read_csv(\"~/data/data_000637.txt\", sep=\",\", header=0, nrows=N, dtype=np.int64)\n",
    "\n",
    "print(df)"
   ]
  },
  {
   "cell_type": "markdown",
   "metadata": {},
   "source": [
    "\n",
    "2\\. Find out the number of BX in a ORBIT (the value 'x')."
   ]
  },
  {
   "cell_type": "code",
   "execution_count": 5,
   "metadata": {},
   "outputs": [
    {
     "name": "stdout",
     "output_type": "stream",
     "text": [
      "The maximun number of BX in a orbit is: 3564\n"
     ]
    }
   ],
   "source": [
    "BX_COUNTER = np.array(df[\"BX_COUNTER\"].drop_duplicates().values)\n",
    "\n",
    "print(f\"The maximun number of BX in a orbit is: {max(BX_COUNTER)+1}\")"
   ]
  },
  {
   "cell_type": "markdown",
   "metadata": {},
   "source": [
    "\n",
    "3\\. Find out how much the data taking lasted. You can either make an estimate based on the fraction of the measurements (rows) you read, or perform this check precisely by reading out the whole dataset."
   ]
  },
  {
   "cell_type": "code",
   "execution_count": 6,
   "metadata": {},
   "outputs": [
    {
     "name": "stdout",
     "output_type": "stream",
     "text": [
      "Approximately the taking lasted 1.77309ms\n"
     ]
    }
   ],
   "source": [
    "ORBIT_CNT = np.array(df[\"ORBIT_CNT\"].drop_duplicates().values)\n",
    "\n",
    "min_orbit = min(ORBIT_CNT)\n",
    "max_orbit = max(ORBIT_CNT)\n",
    "time_approx = (max_orbit -min_orbit)*3564*25.e-09*100\n",
    "print(f\"Approximately the taking lasted {time_approx}ms\")"
   ]
  },
  {
   "cell_type": "markdown",
   "metadata": {},
   "source": [
    "\n",
    "4\\. Create a new column with the absolute time in ns (as a combination of the other three columns with timing information).\n"
   ]
  },
  {
   "cell_type": "code",
   "execution_count": 7,
   "metadata": {},
   "outputs": [
    {
     "name": "stdout",
     "output_type": "stream",
     "text": [
      "       HEAD  FPGA  TDC_CHANNEL   ORBIT_CNT  BX_COUNTER  TDC_MEAS  \\\n",
      "0         1     0          123  3869200167        2374        26   \n",
      "1         1     0          124  3869200167        2374        27   \n",
      "2         1     0           63  3869200167        2553        28   \n",
      "3         1     0           64  3869200167        2558        19   \n",
      "4         1     0           64  3869200167        2760        25   \n",
      "...     ...   ...          ...         ...         ...       ...   \n",
      "19995     1     0           27  3869200366        2513        29   \n",
      "19996     1     0           63  3869200366        2517         6   \n",
      "19997     1     0           32  3869200366        2519         5   \n",
      "19998     1     0           17  3869200366        2522        21   \n",
      "19999     1     0           64  3869200366        2522         0   \n",
      "\n",
      "            time (s)  \n",
      "0      344745.734939  \n",
      "1      344745.734939  \n",
      "2      344745.734944  \n",
      "3      344745.734944  \n",
      "4      344745.734949  \n",
      "...              ...  \n",
      "19995  344745.752673  \n",
      "19996  344745.752674  \n",
      "19997  344745.752674  \n",
      "19998  344745.752674  \n",
      "19999  344745.752674  \n",
      "\n",
      "[20000 rows x 7 columns]\n"
     ]
    }
   ],
   "source": [
    "time = np.array([row[\"ORBIT_CNT\"]*3564+row[\"BX_COUNTER\"]+row[\"TDC_MEAS\"]/30.  for index, row in df.iterrows()])*25.e-09\n",
    "df[\"time (s)\"] = time\n",
    "\n",
    "print(df)"
   ]
  },
  {
   "cell_type": "markdown",
   "metadata": {},
   "source": [
    "\n",
    "5\\. Replace the values (all 1) of the HEAD column randomly with 0 or 1.\n"
   ]
  },
  {
   "cell_type": "code",
   "execution_count": 8,
   "metadata": {},
   "outputs": [
    {
     "name": "stdout",
     "output_type": "stream",
     "text": [
      "       HEAD  FPGA  TDC_CHANNEL   ORBIT_CNT  BX_COUNTER  TDC_MEAS  \\\n",
      "0         0     0          123  3869200167        2374        26   \n",
      "1         1     0          124  3869200167        2374        27   \n",
      "2         0     0           63  3869200167        2553        28   \n",
      "3         0     0           64  3869200167        2558        19   \n",
      "4         1     0           64  3869200167        2760        25   \n",
      "...     ...   ...          ...         ...         ...       ...   \n",
      "19995     1     0           27  3869200366        2513        29   \n",
      "19996     1     0           63  3869200366        2517         6   \n",
      "19997     1     0           32  3869200366        2519         5   \n",
      "19998     1     0           17  3869200366        2522        21   \n",
      "19999     0     0           64  3869200366        2522         0   \n",
      "\n",
      "            time (s)  \n",
      "0      344745.734939  \n",
      "1      344745.734939  \n",
      "2      344745.734944  \n",
      "3      344745.734944  \n",
      "4      344745.734949  \n",
      "...              ...  \n",
      "19995  344745.752673  \n",
      "19996  344745.752674  \n",
      "19997  344745.752674  \n",
      "19998  344745.752674  \n",
      "19999  344745.752674  \n",
      "\n",
      "[20000 rows x 7 columns]\n"
     ]
    }
   ],
   "source": [
    "newHead = np.random.randint(low=0, high=2, size=df.shape[0])\n",
    "df[\"HEAD\"] = newHead\n",
    "\n",
    "print(df)"
   ]
  },
  {
   "cell_type": "markdown",
   "metadata": {},
   "source": [
    "\n",
    "6\\. Create a new DataFrame that contains only the rows with HEAD=1.\n",
    "\n"
   ]
  },
  {
   "cell_type": "code",
   "execution_count": 9,
   "metadata": {},
   "outputs": [
    {
     "name": "stdout",
     "output_type": "stream",
     "text": [
      "       HEAD  FPGA  TDC_CHANNEL   ORBIT_CNT  BX_COUNTER  TDC_MEAS  \\\n",
      "1         1     0          124  3869200167        2374        27   \n",
      "4         1     0           64  3869200167        2760        25   \n",
      "8         1     0           62  3869200167        2774        21   \n",
      "13        1     0           36  3869200167        2791        23   \n",
      "14        1     0           56  3869200167        2789         3   \n",
      "...     ...   ...          ...         ...         ...       ...   \n",
      "19993     1     0           42  3869200366        2392        22   \n",
      "19995     1     0           27  3869200366        2513        29   \n",
      "19996     1     0           63  3869200366        2517         6   \n",
      "19997     1     0           32  3869200366        2519         5   \n",
      "19998     1     0           17  3869200366        2522        21   \n",
      "\n",
      "            time (s)  \n",
      "1      344745.734939  \n",
      "4      344745.734949  \n",
      "8      344745.734949  \n",
      "13     344745.734949  \n",
      "14     344745.734949  \n",
      "...              ...  \n",
      "19993  344745.752670  \n",
      "19995  344745.752673  \n",
      "19996  344745.752674  \n",
      "19997  344745.752674  \n",
      "19998  344745.752674  \n",
      "\n",
      "[9961 rows x 7 columns]\n"
     ]
    }
   ],
   "source": [
    "ones_df = df[df[\"HEAD\"]==1]\n",
    "print(ones_df)"
   ]
  },
  {
   "cell_type": "markdown",
   "metadata": {},
   "source": [
    "7\\. Make two occupancy plots (one for each FPGA), i.e. plot the number of counts per TDC channel\n",
    "\n"
   ]
  },
  {
   "cell_type": "code",
   "execution_count": 15,
   "metadata": {},
   "outputs": [
    {
     "name": "stdout",
     "output_type": "stream",
     "text": [
      "[13959  6041]\n"
     ]
    },
    {
     "data": {
      "text/plain": [
       "Text(0, 0.5, 'occupancy')"
      ]
     },
     "execution_count": 15,
     "metadata": {},
     "output_type": "execute_result"
    },
    {
     "data": {
      "image/png": "[encoded data removed]",
      "text/plain": [
       "<Figure size 640x480 with 1 Axes>"
      ]
     },
     "metadata": {},
     "output_type": "display_data"
    }
   ],
   "source": [
    "occupancy = np.array([df[df[\"FPGA\"]==fpga][\"TDC_MEAS\"].shape[0] for fpga in df[\"FPGA\"].drop_duplicates().values])\n",
    "print(occupancy)\n",
    "\n",
    "plt.scatter(x=range(len(occupancy)), y=occupancy)\n",
    "plt.xlabel(\"FPGA\")\n",
    "plt.ylabel(\"occupancy\")"
   ]
  },
  {
   "cell_type": "markdown",
   "metadata": {},
   "source": [
    "8\\. Use the groupby method to find out the noisy channels, i.e. the TDC channels with most counts (say the top 3)\n"
   ]
  },
  {
   "cell_type": "code",
   "execution_count": 30,
   "metadata": {},
   "outputs": [
    {
     "name": "stdout",
     "output_type": "stream",
     "text": [
      "TDC_CHANNEL\n",
      "139    1693\n",
      "64      996\n",
      "63      969\n",
      "61      747\n",
      "62      731\n",
      "       ... \n",
      "98        9\n",
      "126       9\n",
      "55        9\n",
      "67        8\n",
      "125       7\n",
      "Length: 129, dtype: int64\n",
      "\n",
      "The three channels with more noise  are:  [139  64  63]\n"
     ]
    }
   ],
   "source": [
    "channel_counter = df.groupby(\"TDC_CHANNEL\").size().sort_values(ascending=False)\n",
    "print(channel_counter)\n",
    "print()\n",
    "\n",
    "print(\"The three channels with more noise  are: \", channel_counter.head(3).index.values)"
   ]
  },
  {
   "cell_type": "markdown",
   "metadata": {},
   "source": [
    "\n",
    "9\\. Count the number of unique orbits. Count the number of unique orbits with at least one measurement from TDC_CHANNEL=139"
   ]
  },
  {
   "cell_type": "code",
   "execution_count": 31,
   "metadata": {},
   "outputs": [
    {
     "name": "stdout",
     "output_type": "stream",
     "text": [
      "The unique orbits are  200\n",
      "The unique orbits with at least one measurement from channel 139 is: 200\n"
     ]
    }
   ],
   "source": [
    "print(\"The unique orbits are \", ORBIT_CNT.shape[0])\n",
    "ORBIT_CNT_139 = np.array(df[df[\"TDC_CHANNEL\"]==139][\"ORBIT_CNT\"].drop_duplicates().values)\n",
    "print(f\"The unique orbits with at least one measurement from channel 139 is: {ORBIT_CNT_139.shape[0]}\")"
   ]
  }
 ],
 "metadata": {
  "kernelspec": {
   "display_name": "Python 3 (ipykernel)",
   "language": "python",
   "name": "python3"
  },
  "language_info": {
   "codemirror_mode": {
    "name": "ipython",
    "version": 3
   },
   "file_extension": ".py",
   "mimetype": "text/x-python",
   "name": "python",
   "nbconvert_exporter": "python",
   "pygments_lexer": "ipython3",
   "version": "3.10.12"
  }
 },
 "nbformat": 4,
 "nbformat_minor": 2
}
